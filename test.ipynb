{
 "metadata": {
  "name": "test"
 },
 "nbformat": 3,
 "nbformat_minor": 0,
 "worksheets": [
  {
   "cells": [
    {
     "cell_type": "markdown",
     "metadata": {},
     "source": [
      "## 3. How to use this IPython Notebook\n",
      "\n",
      "IPython notebooks are very useful to collaboratively train bioinformatics.  These notebooks have recently been featured in Nature News (http://www.nature.com/news/interactive-notebooks-sharing-the-code-1.16261 and   http://www.nature.com/news/programming-pick-up-python-1.16833)\n",
      "\n",
      "In using these notebooks, there are a few important things to note.  There are two types of content in this tutorial:  text and code.  This content is placed in this notebook as \"cells\". If you click around on this page, you'll see different cells highlighted. To execute each cell (regardless of content), you hit on your keyboard *SHIFT+ENTER*.  If the cell contains text, the content will be displayed directly.  If the cell contains code, the code will then execute.  Also, you can execute all cells in the notebook by going to the *Cell* tab where File, Edit, View, Insert, Cell... are in the top left of this webpage and selecting *Run all*.\n",
      "\n",
      "Note:  When a cell is executing, you'll note that there is an \"*\" on the left of the cell.  When execution is complete, this \"*\" turns into a number."
     ]
    },
    {
     "cell_type": "markdown",
     "metadata": {},
     "source": [
      "## 4.  Download the tutorial dataset.\n",
      "\n",
      "We will begin this tutorial by downloading the HMP mock metagenome from the NCBI Short Read Archives (SRA).  Many public metagenomes are stored as SRA files in the NCBI. The easiest way to get these SRA files is to use a special set of tools called the *sratoolkit*.  If you have your dataset SRA run ID (in this case SRR172903), you can download the dataset and convert it to the standard \"fasta\" or \"fastq\" sequencing format is to use a special program to convert the file.  \n",
      "\n",
      "First, let's install the sratoolkit on your server.  When installing programs, there is usually a download and unpacking, and sometimes an install step.  For installing sratoolkit, we will download and unpack the software (the command wget to download, the command tar to unpack). \n"
     ]
    },
    {
     "cell_type": "code",
     "collapsed": false,
     "input": [
      "!wget http://ftp-trace.ncbi.nlm.nih.gov/sra/sdk/2.4.5-2/sratoolkit.2.4.5-2-ubuntu64.tar.gz"
     ],
     "language": "python",
     "metadata": {},
     "outputs": [],
     "prompt_number": 1
    },
    {
     "cell_type": "markdown",
     "metadata": {},
     "source": [
      "You can see that we now have a file containing the software with the \"ls\" command.  You'll also see this notebook in the list of files in the present location we are working in."
     ]
    },
    {
     "cell_type": "code",
     "collapsed": false,
     "input": [
      "!ls"
     ],
     "language": "python",
     "metadata": {},
     "outputs": [
      {
       "output_type": "stream",
       "stream": "stdout",
       "text": [
        "april_8_notebook.ipynb\tsratoolkit.2.4.5-2-ubuntu64.tar.gz  test.ipynb\r\n"
       ]
      }
     ],
     "prompt_number": 2
    },
    {
     "cell_type": "code",
     "collapsed": false,
     "input": [
      "!tar -xvf sratoolkit.2.4.5-2-ubuntu64.tar.gz"
     ],
     "language": "python",
     "metadata": {},
     "outputs": [
      {
       "output_type": "stream",
       "stream": "stdout",
       "text": [
        "sratoolkit.2.4.5-2-ubuntu64/\r\n",
        "sratoolkit.2.4.5-2-ubuntu64/README\r\n",
        "sratoolkit.2.4.5-2-ubuntu64/README-blastn\r\n",
        "sratoolkit.2.4.5-2-ubuntu64/README-vdb-config\r\n",
        "sratoolkit.2.4.5-2-ubuntu64/bin/\r\n",
        "sratoolkit.2.4.5-2-ubuntu64/bin/ncbi/\r\n",
        "sratoolkit.2.4.5-2-ubuntu64/bin/ncbi/default.kfg\r\n",
        "sratoolkit.2.4.5-2-ubuntu64/bin/ncbi/vdb-copy.kfg\r\n",
        "sratoolkit.2.4.5-2-ubuntu64/bin/abi-dump\r\n",
        "sratoolkit.2.4.5-2-ubuntu64/bin/abi-dump.2\r\n",
        "sratoolkit.2.4.5-2-ubuntu64/bin/abi-dump.2.4.5\r\n",
        "sratoolkit.2.4.5-2-ubuntu64/bin/abi-load\r\n",
        "sratoolkit.2.4.5-2-ubuntu64/bin/abi-load.2\r\n",
        "sratoolkit.2.4.5-2-ubuntu64/bin/abi-load.2.4.5\r\n"
       ]
      },
      {
       "output_type": "stream",
       "stream": "stdout",
       "text": [
        "sratoolkit.2.4.5-2-ubuntu64/bin/align-info\r\n",
        "sratoolkit.2.4.5-2-ubuntu64/bin/align-info.2\r\n",
        "sratoolkit.2.4.5-2-ubuntu64/bin/align-info.2.4.5\r\n",
        "sratoolkit.2.4.5-2-ubuntu64/bin/bam-load\r\n",
        "sratoolkit.2.4.5-2-ubuntu64/bin/bam-load.2\r\n",
        "sratoolkit.2.4.5-2-ubuntu64/bin/bam-load.2.4.5\r\n"
       ]
      },
      {
       "output_type": "stream",
       "stream": "stdout",
       "text": [
        "sratoolkit.2.4.5-2-ubuntu64/bin/blastn_vdb\r\n",
        "sratoolkit.2.4.5-2-ubuntu64/bin/blastn_vdb.2\r\n",
        "sratoolkit.2.4.5-2-ubuntu64/bin/blastn_vdb.2.2.30-2.4.5\r\n"
       ]
      },
      {
       "output_type": "stream",
       "stream": "stdout",
       "text": [
        "sratoolkit.2.4.5-2-ubuntu64/bin/cache-mgr\r\n",
        "sratoolkit.2.4.5-2-ubuntu64/bin/cache-mgr.2\r\n",
        "sratoolkit.2.4.5-2-ubuntu64/bin/cache-mgr.2.4.5\r\n",
        "sratoolkit.2.4.5-2-ubuntu64/bin/cg-load\r\n",
        "sratoolkit.2.4.5-2-ubuntu64/bin/cg-load.2\r\n",
        "sratoolkit.2.4.5-2-ubuntu64/bin/cg-load.2.4.5\r\n",
        "sratoolkit.2.4.5-2-ubuntu64/bin/fastq-dump\r\n",
        "sratoolkit.2.4.5-2-ubuntu64/bin/fastq-dump.2\r\n",
        "sratoolkit.2.4.5-2-ubuntu64/bin/fastq-dump.2.4.5\r\n"
       ]
      },
      {
       "output_type": "stream",
       "stream": "stdout",
       "text": [
        "sratoolkit.2.4.5-2-ubuntu64/bin/fastq-load\r\n",
        "sratoolkit.2.4.5-2-ubuntu64/bin/fastq-load.2\r\n",
        "sratoolkit.2.4.5-2-ubuntu64/bin/fastq-load.2.4.5\r\n"
       ]
      },
      {
       "output_type": "stream",
       "stream": "stdout",
       "text": [
        "sratoolkit.2.4.5-2-ubuntu64/bin/helicos-load\r\n",
        "sratoolkit.2.4.5-2-ubuntu64/bin/helicos-load.2\r\n",
        "sratoolkit.2.4.5-2-ubuntu64/bin/helicos-load.2.4.5\r\n",
        "sratoolkit.2.4.5-2-ubuntu64/bin/illumina-dump\r\n",
        "sratoolkit.2.4.5-2-ubuntu64/bin/illumina-dump.2\r\n",
        "sratoolkit.2.4.5-2-ubuntu64/bin/illumina-dump.2.4.5\r\n"
       ]
      },
      {
       "output_type": "stream",
       "stream": "stdout",
       "text": [
        "sratoolkit.2.4.5-2-ubuntu64/bin/illumina-load\r\n",
        "sratoolkit.2.4.5-2-ubuntu64/bin/illumina-load.2\r\n",
        "sratoolkit.2.4.5-2-ubuntu64/bin/illumina-load.2.4.5\r\n"
       ]
      },
      {
       "output_type": "stream",
       "stream": "stdout",
       "text": [
        "sratoolkit.2.4.5-2-ubuntu64/bin/kar\r\n",
        "sratoolkit.2.4.5-2-ubuntu64/bin/kar.2\r\n",
        "sratoolkit.2.4.5-2-ubuntu64/bin/kar.2.4.5\r\n",
        "sratoolkit.2.4.5-2-ubuntu64/bin/kdbmeta\r\n",
        "sratoolkit.2.4.5-2-ubuntu64/bin/kdbmeta.2\r\n",
        "sratoolkit.2.4.5-2-ubuntu64/bin/kdbmeta.2.4.5\r\n",
        "sratoolkit.2.4.5-2-ubuntu64/bin/latf-load\r\n",
        "sratoolkit.2.4.5-2-ubuntu64/bin/latf-load.2\r\n",
        "sratoolkit.2.4.5-2-ubuntu64/bin/latf-load.2.4.5\r\n"
       ]
      },
      {
       "output_type": "stream",
       "stream": "stdout",
       "text": [
        "sratoolkit.2.4.5-2-ubuntu64/bin/pacbio-load\r\n",
        "sratoolkit.2.4.5-2-ubuntu64/bin/pacbio-load.2\r\n",
        "sratoolkit.2.4.5-2-ubuntu64/bin/pacbio-load.2.4.5\r\n"
       ]
      },
      {
       "output_type": "stream",
       "stream": "stdout",
       "text": [
        "sratoolkit.2.4.5-2-ubuntu64/bin/prefetch\r\n",
        "sratoolkit.2.4.5-2-ubuntu64/bin/prefetch.2\r\n",
        "sratoolkit.2.4.5-2-ubuntu64/bin/prefetch.2.4.5\r\n",
        "sratoolkit.2.4.5-2-ubuntu64/bin/rcexplain\r\n",
        "sratoolkit.2.4.5-2-ubuntu64/bin/rcexplain.2\r\n",
        "sratoolkit.2.4.5-2-ubuntu64/bin/rcexplain.2.4.5\r\n"
       ]
      },
      {
       "output_type": "stream",
       "stream": "stdout",
       "text": [
        "sratoolkit.2.4.5-2-ubuntu64/bin/remote-fuser\r\n",
        "sratoolkit.2.4.5-2-ubuntu64/bin/remote-fuser.2\r\n",
        "sratoolkit.2.4.5-2-ubuntu64/bin/remote-fuser.2.4.5\r\n",
        "sratoolkit.2.4.5-2-ubuntu64/bin/sam-dump\r\n",
        "sratoolkit.2.4.5-2-ubuntu64/bin/sam-dump.2\r\n",
        "sratoolkit.2.4.5-2-ubuntu64/bin/sam-dump.2.4.5\r\n"
       ]
      },
      {
       "output_type": "stream",
       "stream": "stdout",
       "text": [
        "sratoolkit.2.4.5-2-ubuntu64/bin/sff-dump\r\n",
        "sratoolkit.2.4.5-2-ubuntu64/bin/sff-dump.2\r\n",
        "sratoolkit.2.4.5-2-ubuntu64/bin/sff-dump.2.4.5\r\n",
        "sratoolkit.2.4.5-2-ubuntu64/bin/sff-load\r\n",
        "sratoolkit.2.4.5-2-ubuntu64/bin/sff-load.2\r\n",
        "sratoolkit.2.4.5-2-ubuntu64/bin/sff-load.2.4.5\r\n"
       ]
      },
      {
       "output_type": "stream",
       "stream": "stdout",
       "text": [
        "sratoolkit.2.4.5-2-ubuntu64/bin/sra-kar\r\n",
        "sratoolkit.2.4.5-2-ubuntu64/bin/sra-kar.2\r\n",
        "sratoolkit.2.4.5-2-ubuntu64/bin/sra-kar.2.4.5\r\n"
       ]
      },
      {
       "output_type": "stream",
       "stream": "stdout",
       "text": [
        "sratoolkit.2.4.5-2-ubuntu64/bin/sra-pileup\r\n",
        "sratoolkit.2.4.5-2-ubuntu64/bin/sra-pileup.2\r\n",
        "sratoolkit.2.4.5-2-ubuntu64/bin/sra-pileup.2.4.5\r\n",
        "sratoolkit.2.4.5-2-ubuntu64/bin/sra-sort\r\n",
        "sratoolkit.2.4.5-2-ubuntu64/bin/sra-sort.2\r\n",
        "sratoolkit.2.4.5-2-ubuntu64/bin/sra-sort.2.4.5\r\n",
        "sratoolkit.2.4.5-2-ubuntu64/bin/sra-stat\r\n",
        "sratoolkit.2.4.5-2-ubuntu64/bin/sra-stat.2\r\n",
        "sratoolkit.2.4.5-2-ubuntu64/bin/sra-stat.2.4.5\r\n"
       ]
      },
      {
       "output_type": "stream",
       "stream": "stdout",
       "text": [
        "sratoolkit.2.4.5-2-ubuntu64/bin/srapath\r\n",
        "sratoolkit.2.4.5-2-ubuntu64/bin/srapath.2\r\n",
        "sratoolkit.2.4.5-2-ubuntu64/bin/srapath.2.4.5\r\n",
        "sratoolkit.2.4.5-2-ubuntu64/bin/srf-load\r\n",
        "sratoolkit.2.4.5-2-ubuntu64/bin/srf-load.2\r\n",
        "sratoolkit.2.4.5-2-ubuntu64/bin/srf-load.2.4.5\r\n"
       ]
      },
      {
       "output_type": "stream",
       "stream": "stdout",
       "text": [
        "sratoolkit.2.4.5-2-ubuntu64/bin/tblastn_vdb\r\n",
        "sratoolkit.2.4.5-2-ubuntu64/bin/tblastn_vdb.2\r\n",
        "sratoolkit.2.4.5-2-ubuntu64/bin/tblastn_vdb.2.2.30-2.4.5\r\n"
       ]
      },
      {
       "output_type": "stream",
       "stream": "stdout",
       "text": [
        "sratoolkit.2.4.5-2-ubuntu64/bin/test-sra\r\n",
        "sratoolkit.2.4.5-2-ubuntu64/bin/test-sra.2\r\n",
        "sratoolkit.2.4.5-2-ubuntu64/bin/test-sra.2.4.5\r\n",
        "sratoolkit.2.4.5-2-ubuntu64/bin/vdb-config\r\n",
        "sratoolkit.2.4.5-2-ubuntu64/bin/vdb-config.2\r\n",
        "sratoolkit.2.4.5-2-ubuntu64/bin/vdb-config.2.4.5\r\n"
       ]
      },
      {
       "output_type": "stream",
       "stream": "stdout",
       "text": [
        "sratoolkit.2.4.5-2-ubuntu64/bin/vdb-copy\r\n",
        "sratoolkit.2.4.5-2-ubuntu64/bin/vdb-copy.2\r\n",
        "sratoolkit.2.4.5-2-ubuntu64/bin/vdb-copy.2.4.5\r\n",
        "sratoolkit.2.4.5-2-ubuntu64/bin/vdb-decrypt\r\n",
        "sratoolkit.2.4.5-2-ubuntu64/bin/vdb-decrypt.2\r\n",
        "sratoolkit.2.4.5-2-ubuntu64/bin/vdb-decrypt.2.4.5\r\n",
        "sratoolkit.2.4.5-2-ubuntu64/bin/vdb-dump\r\n",
        "sratoolkit.2.4.5-2-ubuntu64/bin/vdb-dump.2\r\n",
        "sratoolkit.2.4.5-2-ubuntu64/bin/vdb-dump.2.4.5\r\n"
       ]
      },
      {
       "output_type": "stream",
       "stream": "stdout",
       "text": [
        "sratoolkit.2.4.5-2-ubuntu64/bin/vdb-encrypt\r\n",
        "sratoolkit.2.4.5-2-ubuntu64/bin/vdb-encrypt.2\r\n",
        "sratoolkit.2.4.5-2-ubuntu64/bin/vdb-encrypt.2.4.5\r\n",
        "sratoolkit.2.4.5-2-ubuntu64/bin/vdb-lock\r\n",
        "sratoolkit.2.4.5-2-ubuntu64/bin/vdb-lock.2\r\n",
        "sratoolkit.2.4.5-2-ubuntu64/bin/vdb-lock.2.4.5\r\n"
       ]
      },
      {
       "output_type": "stream",
       "stream": "stdout",
       "text": [
        "sratoolkit.2.4.5-2-ubuntu64/bin/vdb-passwd\r\n",
        "sratoolkit.2.4.5-2-ubuntu64/bin/vdb-passwd.2\r\n",
        "sratoolkit.2.4.5-2-ubuntu64/bin/vdb-passwd.2.4.5\r\n",
        "sratoolkit.2.4.5-2-ubuntu64/bin/vdb-unlock\r\n",
        "sratoolkit.2.4.5-2-ubuntu64/bin/vdb-unlock.2\r\n",
        "sratoolkit.2.4.5-2-ubuntu64/bin/vdb-unlock.2.4.5\r\n"
       ]
      },
      {
       "output_type": "stream",
       "stream": "stdout",
       "text": [
        "sratoolkit.2.4.5-2-ubuntu64/bin/vdb-validate\r\n",
        "sratoolkit.2.4.5-2-ubuntu64/bin/vdb-validate.2\r\n",
        "sratoolkit.2.4.5-2-ubuntu64/bin/vdb-validate.2.4.5\r\n",
        "sratoolkit.2.4.5-2-ubuntu64/example/\r\n",
        "sratoolkit.2.4.5-2-ubuntu64/example/perl/\r\n",
        "sratoolkit.2.4.5-2-ubuntu64/example/perl/base-stats.pl\r\n",
        "sratoolkit.2.4.5-2-ubuntu64/example/perl/dump-reference.pl\r\n",
        "sratoolkit.2.4.5-2-ubuntu64/example/perl/gene-lookup.pl\r\n",
        "sratoolkit.2.4.5-2-ubuntu64/example/perl/mismatch-stats.pl\r\n",
        "sratoolkit.2.4.5-2-ubuntu64/example/perl/quality-stats.pl\r\n",
        "sratoolkit.2.4.5-2-ubuntu64/example/perl/simplefastq.pl\r\n",
        "sratoolkit.2.4.5-2-ubuntu64/example/perl/splitfastq.pl\r\n",
        "sratoolkit.2.4.5-2-ubuntu64/schema/\r\n",
        "sratoolkit.2.4.5-2-ubuntu64/schema/align/\r\n",
        "sratoolkit.2.4.5-2-ubuntu64/schema/align/align.vschema\r\n",
        "sratoolkit.2.4.5-2-ubuntu64/schema/align/mate-cache.vschema\r\n",
        "sratoolkit.2.4.5-2-ubuntu64/schema/align/qstat.vschema\r\n",
        "sratoolkit.2.4.5-2-ubuntu64/schema/align/refseq.vschema\r\n",
        "sratoolkit.2.4.5-2-ubuntu64/schema/align/seq.vschema\r\n",
        "sratoolkit.2.4.5-2-ubuntu64/schema/insdc/\r\n",
        "sratoolkit.2.4.5-2-ubuntu64/schema/insdc/insdc.vschema\r\n",
        "sratoolkit.2.4.5-2-ubuntu64/schema/insdc/seq.vschema\r\n",
        "sratoolkit.2.4.5-2-ubuntu64/schema/insdc/sra.vschema\r\n",
        "sratoolkit.2.4.5-2-ubuntu64/schema/ncbi/\r\n",
        "sratoolkit.2.4.5-2-ubuntu64/schema/ncbi/clip.vschema\r\n",
        "sratoolkit.2.4.5-2-ubuntu64/schema/ncbi/ncbi.vschema\r\n",
        "sratoolkit.2.4.5-2-ubuntu64/schema/ncbi/pnbrdb.vschema\r\n",
        "sratoolkit.2.4.5-2-ubuntu64/schema/ncbi/seq-graph.vschema\r\n",
        "sratoolkit.2.4.5-2-ubuntu64/schema/ncbi/seq.vschema\r\n",
        "sratoolkit.2.4.5-2-ubuntu64/schema/ncbi/spotname.vschema\r\n",
        "sratoolkit.2.4.5-2-ubuntu64/schema/ncbi/sra.vschema\r\n",
        "sratoolkit.2.4.5-2-ubuntu64/schema/ncbi/stats.vschema\r\n",
        "sratoolkit.2.4.5-2-ubuntu64/schema/ncbi/varloc.vschema\r\n",
        "sratoolkit.2.4.5-2-ubuntu64/schema/ncbi/wgs-contig.vschema\r\n",
        "sratoolkit.2.4.5-2-ubuntu64/schema/sra/\r\n",
        "sratoolkit.2.4.5-2-ubuntu64/schema/sra/454.vschema\r\n",
        "sratoolkit.2.4.5-2-ubuntu64/schema/sra/abi.vschema\r\n",
        "sratoolkit.2.4.5-2-ubuntu64/schema/sra/helicos.vschema\r\n",
        "sratoolkit.2.4.5-2-ubuntu64/schema/sra/illumina.vschema\r\n",
        "sratoolkit.2.4.5-2-ubuntu64/schema/sra/ion-torrent.vschema\r\n",
        "sratoolkit.2.4.5-2-ubuntu64/schema/sra/pacbio.vschema\r\n",
        "sratoolkit.2.4.5-2-ubuntu64/schema/sra/pevents.vschema\r\n",
        "sratoolkit.2.4.5-2-ubuntu64/schema/vdb/\r\n",
        "sratoolkit.2.4.5-2-ubuntu64/schema/vdb/built-in.vschema\r\n",
        "sratoolkit.2.4.5-2-ubuntu64/schema/vdb/vdb.vschema\r\n"
       ]
      }
     ],
     "prompt_number": 6
    },
    {
     "cell_type": "markdown",
     "metadata": {},
     "source": [
      "The command below downloads the dataset in \"fastq\" format into the same directory where this notebook is saved."
     ]
    },
    {
     "cell_type": "code",
     "collapsed": false,
     "input": [
      "!sratoolkit.2.4.5-2-ubuntu64/bin/fastq-dump SRR172903 "
     ],
     "language": "python",
     "metadata": {},
     "outputs": [
      {
       "output_type": "stream",
       "stream": "stdout",
       "text": [
        "Read 7932819 spots for SRR172903\r\n",
        "Written 7932819 spots for SRR172903\r\n"
       ]
      }
     ],
     "prompt_number": 7
    },
    {
     "cell_type": "markdown",
     "metadata": {},
     "source": [
      "Now, we have the data for the tutorial in a fastq format."
     ]
    },
    {
     "cell_type": "markdown",
     "metadata": {},
     "source": [
      "### Checking the diversity - What is the distribution of \"Who is There?\"\n",
      "\n",
      "An advantage of metagenomic sequencing is the ability to quantify microbial diversity in an environment without the need to first cultivate cells.  Typically, most studies access taxonomic diversity (especially with the usage of targeted sequencing of the 16S rRNA gene*).  Diversity can also be measured in the representation of specific sequence patterns in a metagenome.  For example, one can quantify the abundance of unique nucleotide \"words\" of length K, or k-mers, in a metagenome.  These k-mers are also used in the assembly of metagenomes where overlapping k-mers are indicative of reads that should be connected together.  The diversity of these k-mers can give you insight into the the diversity of your sample.  Further, since assembly compares each k-mersagainst all k-mers, increasing k-mers present will require more computational memory. A nice review on k-mers and assembly is Miller et al.\n",
      "\n",
      "(*Note that 16S rRNA amplicon sequencing is a targeted approach and not considered metagenomics.  Metagenomic sequencing uses DNA extracted from all cells in a community and sequenced.  Targeted sequencing amplifies a specific genomic locus and independently sequenced.  A great review on metagenome analysis is Sharpton et al.)\n",
      "\n",
      "The following script is a slightly modified script contained within the *khmer* package (www.github.com/ged/khmer) and can estimate the total unique number of k-mers in your dataset.  Use cases for this might be a) determining how diverse a metagenome is compared to e.g., a bacterial genome for assembly, b) to compare k-mer diversity among multiple metagenomes, c) exploring the impacts of choice of length k for assembly.\n",
      "\n",
      "First, to install khmer run the command below:"
     ]
    },
    {
     "cell_type": "code",
     "collapsed": false,
     "input": [
      "!bash /home/ubuntu/frontiers-review-2015/khmer-install.sh"
     ],
     "language": "python",
     "metadata": {},
     "outputs": [
      {
       "output_type": "stream",
       "stream": "stdout",
       "text": [
        "fatal: destination path 'khmer' already exists and is not an empty directory.\r\n"
       ]
      },
      {
       "output_type": "stream",
       "stream": "stdout",
       "text": [
        "running install\r\n"
       ]
      },
      {
       "output_type": "stream",
       "stream": "stdout",
       "text": [
        "Checking .pth file support in /usr/local/lib/python2.7/dist-packages/\r\n",
        "/usr/bin/python -E -c pass\r\n",
        "TEST PASSED: /usr/local/lib/python2.7/dist-packages/ appears to support .pth files\r\n",
        "running bdist_egg\r\n",
        "running egg_info\r\n",
        "writing requirements to khmer.egg-info/requires.txt\r\n",
        "writing khmer.egg-info/PKG-INFO\r\n",
        "writing top-level names to khmer.egg-info/top_level.txt\r\n",
        "writing dependency_links to khmer.egg-info/dependency_links.txt\r\n"
       ]
      },
      {
       "output_type": "stream",
       "stream": "stdout",
       "text": [
        "reading manifest file 'khmer.egg-info/SOURCES.txt'\r\n",
        "reading manifest template 'MANIFEST.in'\r\n"
       ]
      },
      {
       "output_type": "stream",
       "stream": "stdout",
       "text": [
        "warning: no previously-included files matching '*.orig' found anywhere in distribution\r\n",
        "warning: no previously-included files matching '*.pyc' found anywhere in distribution\r\n",
        "writing manifest file 'khmer.egg-info/SOURCES.txt'\r\n",
        "installing library code to build/bdist.linux-x86_64/egg\r\n",
        "running install_lib\r\n",
        "running build_py\r\n",
        "running build_ext\r\n",
        "bash -c cd third-party/zlib && ( test Makefile -nt configure || bash ./configure --static ) && make -f Makefile.pic PIC\r\n"
       ]
      },
      {
       "output_type": "stream",
       "stream": "stdout",
       "text": [
        "make: Nothing to be done for `PIC'.\r\n",
        "bash -c cd third-party/bzip2 && make -f Makefile-libbz2_so all\r\n",
        "#gcc -shared -Wl,-soname -Wl,libbz2.so.1.0 -o libbz2.so.1.0.6 blocksort.o huffman.o crctable.o randtable.o compress.o decompress.o bzlib.o\r\n",
        "#gcc -fpic -fPIC -Wall -Winline -O2 -g -D_FILE_OFFSET_BITS=64 -o bzip2-shared bzip2.c libbz2.so.1.0.6\r\n",
        "#rm -f libbz2.so.1.0\r\n",
        "#ln -s libbz2.so.1.0.6 libbz2.so.1.0\r\n",
        "creating build/bdist.linux-x86_64/egg\r\n",
        "creating build/bdist.linux-x86_64/egg/khmer\r\n",
        "copying build/lib.linux-x86_64-2.7/khmer/_khmermodule.cc -> build/bdist.linux-x86_64/egg/khmer\r\n",
        "copying build/lib.linux-x86_64-2.7/khmer/thread_utils.py -> build/bdist.linux-x86_64/egg/khmer\r\n",
        "copying build/lib.linux-x86_64-2.7/khmer/__init__.py -> build/bdist.linux-x86_64/egg/khmer\r\n",
        "creating build/bdist.linux-x86_64/egg/khmer/tests\r\n",
        "copying build/lib.linux-x86_64-2.7/khmer/tests/test_hashbits_obj.py -> build/bdist.linux-x86_64/egg/khmer/tests\r\n",
        "copying build/lib.linux-x86_64-2.7/khmer/tests/test_graph.py -> build/bdist.linux-x86_64/egg/khmer/tests\r\n",
        "copying build/lib.linux-x86_64-2.7/khmer/tests/test_hashbits.py -> build/bdist.linux-x86_64/egg/khmer/tests\r\n",
        "copying build/lib.linux-x86_64-2.7/khmer/tests/test_labelhash.py -> build/bdist.linux-x86_64/egg/khmer/tests\r\n",
        "creating build/bdist.linux-x86_64/egg/khmer/tests/test-data\r\n",
        "copying build/lib.linux-x86_64-2.7/khmer/tests/test-data/random-20-a.fq.gz -> build/bdist.linux-x86_64/egg/khmer/tests/test-data\r\n",
        "copying build/lib.linux-x86_64-2.7/khmer/tests/test-data/biglump-random-20-a.fa -> build/bdist.linux-x86_64/egg/khmer/tests/test-data\r\n",
        "copying build/lib.linux-x86_64-2.7/khmer/tests/test-data/combine_parts_1.fa -> build/bdist.linux-x86_64/egg/khmer/tests/test-data\r\n",
        "copying build/lib.linux-x86_64-2.7/khmer/tests/test-data/paired.fa.2 -> build/bdist.linux-x86_64/egg/khmer/tests/test-data\r\n",
        "copying build/lib.linux-x86_64-2.7/khmer/tests/test-data/random-20-a.fa -> build/bdist.linux-x86_64/egg/khmer/tests/test-data\r\n",
        "copying build/lib.linux-x86_64-2.7/khmer/tests/test-data/test-graph2.fa -> build/bdist.linux-x86_64/egg/khmer/tests/test-data\r\n",
        "copying build/lib.linux-x86_64-2.7/khmer/tests/test-data/test-overlap2.fa -> build/bdist.linux-x86_64/egg/khmer/tests/test-data\r\n",
        "copying build/lib.linux-x86_64-2.7/khmer/tests/test-data/filter-test-B.fa -> build/bdist.linux-x86_64/egg/khmer/tests/test-data\r\n",
        "copying build/lib.linux-x86_64-2.7/khmer/tests/test-data/test-graph.fa -> build/bdist.linux-x86_64/egg/khmer/tests/test-data\r\n",
        "copying build/lib.linux-x86_64-2.7/khmer/tests/test-data/test-error-reads.fq -> build/bdist.linux-x86_64/egg/khmer/tests/test-data\r\n",
        "copying build/lib.linux-x86_64-2.7/khmer/tests/test-data/test-short.fa -> build/bdist.linux-x86_64/egg/khmer/tests/test-data\r\n",
        "copying build/lib.linux-x86_64-2.7/khmer/tests/test-data/test-empty.fa.bz2 -> build/bdist.linux-x86_64/egg/khmer/tests/test-data\r\n",
        "copying build/lib.linux-x86_64-2.7/khmer/tests/test-data/paired-broken.fq.2 -> build/bdist.linux-x86_64/egg/khmer/tests/test-data\r\n",
        "copying build/lib.linux-x86_64-2.7/khmer/tests/test-data/badversion-k32.tagset -> build/bdist.linux-x86_64/egg/khmer/tests/test-data\r\n",
        "copying build/lib.linux-x86_64-2.7/khmer/tests/test-data/goodversion-k32.tagset -> build/bdist.linux-x86_64/egg/khmer/tests/test-data\r\n",
        "copying build/lib.linux-x86_64-2.7/khmer/tests/test-data/paired-broken3.fq.2 -> build/bdist.linux-x86_64/egg/khmer/tests/test-data\r\n",
        "copying build/lib.linux-x86_64-2.7/khmer/tests/test-data/paired-mixed.fa.se -> build/bdist.linux-x86_64/egg/khmer/tests/test-data\r\n",
        "copying build/lib.linux-x86_64-2.7/khmer/tests/test-data/normC20k20.ct -> build/bdist.linux-x86_64/egg/khmer/tests/test-data\r\n",
        "copying build/lib.linux-x86_64-2.7/khmer/tests/test-data/goodversion-k32.stoptags -> build/bdist.linux-x86_64/egg/khmer/tests/test-data\r\n",
        "copying build/lib.linux-x86_64-2.7/khmer/tests/test-data/empty-file -> build/bdist.linux-x86_64/egg/khmer/tests/test-data\r\n",
        "copying build/lib.linux-x86_64-2.7/khmer/tests/test-data/badversion-k12.ht -> build/bdist.linux-x86_64/egg/khmer/tests/test-data\r\n",
        "copying build/lib.linux-x86_64-2.7/khmer/tests/test-data/casava_18-pe.fq -> build/bdist.linux-x86_64/egg/khmer/tests/test-data\r\n",
        "copying build/lib.linux-x86_64-2.7/khmer/tests/test-data/random-20-a.even.fa -> build/bdist.linux-x86_64/egg/khmer/tests/test-data\r\n",
        "copying build/lib.linux-x86_64-2.7/khmer/tests/test-data/test-reads.fa -> build/bdist.linux-x86_64/egg/khmer/tests/test-data\r\n",
        "copying build/lib.linux-x86_64-2.7/khmer/tests/test-data/paired-broken2.fq.1 -> build/bdist.linux-x86_64/egg/khmer/tests/test-data\r\n",
        "copying build/lib.linux-x86_64-2.7/khmer/tests/test-data/100-reads.fq.gz -> build/bdist.linux-x86_64/egg/khmer/tests/test-data\r\n",
        "copying build/lib.linux-x86_64-2.7/khmer/tests/test-data/paired.fa.1 -> build/bdist.linux-x86_64/egg/khmer/tests/test-data\r\n",
        "copying build/lib.linux-x86_64-2.7/khmer/tests/test-data/test-abund-read-paired.fq -> build/bdist.linux-x86_64/egg/khmer/tests/test-data\r\n",
        "copying build/lib.linux-x86_64-2.7/khmer/tests/test-data/test-abund-read-2.fa.gz -> build/bdist.linux-x86_64/egg/khmer/tests/test-data\r\n",
        "copying build/lib.linux-x86_64-2.7/khmer/tests/test-data/paired.fq.2 -> build/bdist.linux-x86_64/egg/khmer/tests/test-data\r\n",
        "copying build/lib.linux-x86_64-2.7/khmer/tests/test-data/badversion-k12.ct -> build/bdist.linux-x86_64/egg/khmer/tests/test-data\r\n",
        "copying build/lib.linux-x86_64-2.7/khmer/tests/test-data/truncated.fq -> build/bdist.linux-x86_64/egg/khmer/tests/test-data\r\n",
        "copying build/lib.linux-x86_64-2.7/khmer/tests/test-data/test-abund-read-paired.fa -> build/bdist.linux-x86_64/egg/khmer/tests/test-data\r\n",
        "copying build/lib.linux-x86_64-2.7/khmer/tests/test-data/test-fastq-n-reads.fq -> build/bdist.linux-x86_64/egg/khmer/tests/test-data\r\n",
        "copying build/lib.linux-x86_64-2.7/khmer/tests/test-data/random-31-c.fa -> build/bdist.linux-x86_64/egg/khmer/tests/test-data\r\n",
        "copying build/lib.linux-x86_64-2.7/khmer/tests/test-data/test-abund-read.fa -> build/bdist.linux-x86_64/egg/khmer/tests/test-data\r\n",
        "copying build/lib.linux-x86_64-2.7/khmer/tests/test-data/test-abund-read-2.fa.bz2 -> build/bdist.linux-x86_64/egg/khmer/tests/test-data\r\n",
        "copying build/lib.linux-x86_64-2.7/khmer/tests/test-data/100-reads.fq.truncated.bz2 -> build/bdist.linux-x86_64/egg/khmer/tests/test-data\r\n",
        "copying build/lib.linux-x86_64-2.7/khmer/tests/test-data/test-sweep-reads.fq -> build/bdist.linux-x86_64/egg/khmer/tests/test-data\r\n",
        "copying build/lib.linux-x86_64-2.7/khmer/tests/test-data/fakelump.fa.stoptags.txt -> build/bdist.linux-x86_64/egg/khmer/tests/test-data\r\n",
        "copying build/lib.linux-x86_64-2.7/khmer/tests/test-data/filter-test-A.fa -> build/bdist.linux-x86_64/egg/khmer/tests/test-data\r\n",
        "copying build/lib.linux-x86_64-2.7/khmer/tests/test-data/paired.fq -> build/bdist.linux-x86_64/egg/khmer/tests/test-data\r\n",
        "copying build/lib.linux-x86_64-2.7/khmer/tests/test-data/test-large.fa -> build/bdist.linux-x86_64/egg/khmer/tests/test-data\r\n"
       ]
      },
      {
       "output_type": "stream",
       "stream": "stdout",
       "text": [
        "copying build/lib.linux-x86_64-2.7/khmer/tests/test-data/test-abund-read-impaired.fa -> build/bdist.linux-x86_64/egg/khmer/tests/test-data\r\n",
        "copying build/lib.linux-x86_64-2.7/khmer/tests/test-data/paired-mixed.fq -> build/bdist.linux-x86_64/egg/khmer/tests/test-data\r\n",
        "copying build/lib.linux-x86_64-2.7/khmer/tests/test-data/test-labels.fa -> build/bdist.linux-x86_64/egg/khmer/tests/test-data\r\n",
        "copying build/lib.linux-x86_64-2.7/khmer/tests/test-data/test-abund-read-2.paired2.fq -> build/bdist.linux-x86_64/egg/khmer/tests/test-data\r\n",
        "copying build/lib.linux-x86_64-2.7/khmer/tests/test-data/test-abund-read-2.fa -> build/bdist.linux-x86_64/egg/khmer/tests/test-data\r\n",
        "copying build/lib.linux-x86_64-2.7/khmer/tests/test-data/test-reads.fq.bz2 -> build/bdist.linux-x86_64/egg/khmer/tests/test-data\r\n",
        "copying build/lib.linux-x86_64-2.7/khmer/tests/test-data/test-graph5.fa -> build/bdist.linux-x86_64/egg/khmer/tests/test-data\r\n",
        "copying build/lib.linux-x86_64-2.7/khmer/tests/test-data/test-reads.fq.gz -> build/bdist.linux-x86_64/egg/khmer/tests/test-data\r\n",
        "copying build/lib.linux-x86_64-2.7/khmer/tests/test-data/test-sweep-reads.fa -> build/bdist.linux-x86_64/egg/khmer/tests/test-data\r\n",
        "copying build/lib.linux-x86_64-2.7/khmer/tests/test-data/random-20-a.fa.gz -> build/bdist.linux-x86_64/egg/khmer/tests/test-data\r\n",
        "copying build/lib.linux-x86_64-2.7/khmer/tests/test-data/test-abund-read-3.fa -> build/bdist.linux-x86_64/egg/khmer/tests/test-data\r\n",
        "copying build/lib.linux-x86_64-2.7/khmer/tests/test-data/goodversion-k12.ht.gz -> build/bdist.linux-x86_64/egg/khmer/tests/test-data\r\n",
        "copying build/lib.linux-x86_64-2.7/khmer/tests/test-data/100-reads.fq.bz2 -> build/bdist.linux-x86_64/egg/khmer/tests/test-data\r\n",
        "copying build/lib.linux-x86_64-2.7/khmer/tests/test-data/test-sweep-contigs.fp -> build/bdist.linux-x86_64/egg/khmer/tests/test-data\r\n",
        "copying build/lib.linux-x86_64-2.7/khmer/tests/test-data/random-20-a.fq.bz2 -> build/bdist.linux-x86_64/egg/khmer/tests/test-data\r\n",
        "copying build/lib.linux-x86_64-2.7/khmer/tests/test-data/test-fastq-reads.fq -> build/bdist.linux-x86_64/egg/khmer/tests/test-data\r\n",
        "copying build/lib.linux-x86_64-2.7/khmer/tests/test-data/paired-mixed.fa.pe -> build/bdist.linux-x86_64/egg/khmer/tests/test-data\r\n",
        "copying build/lib.linux-x86_64-2.7/khmer/tests/test-data/badversion-k32.stoptags -> build/bdist.linux-x86_64/egg/khmer/tests/test-data\r\n",
        "copying build/lib.linux-x86_64-2.7/khmer/tests/test-data/test-abund-read-2.paired.fq -> build/bdist.linux-x86_64/egg/khmer/tests/test-data\r\n",
        "copying build/lib.linux-x86_64-2.7/khmer/tests/test-data/paired.fq.1 -> build/bdist.linux-x86_64/egg/khmer/tests/test-data\r\n",
        "copying build/lib.linux-x86_64-2.7/khmer/tests/test-data/single-read.fq -> build/bdist.linux-x86_64/egg/khmer/tests/test-data\r\n",
        "copying build/lib.linux-x86_64-2.7/khmer/tests/test-data/random-20-b.fa -> build/bdist.linux-x86_64/egg/khmer/tests/test-data\r\n",
        "copying build/lib.linux-x86_64-2.7/khmer/tests/test-data/100-reads.fq.truncated.gz -> build/bdist.linux-x86_64/egg/khmer/tests/test-data\r\n",
        "copying build/lib.linux-x86_64-2.7/khmer/tests/test-data/test-output-partitions.fa -> build/bdist.linux-x86_64/egg/khmer/tests/test-data\r\n",
        "copying build/lib.linux-x86_64-2.7/khmer/tests/test-data/random-20-a.fq -> build/bdist.linux-x86_64/egg/khmer/tests/test-data\r\n",
        "copying build/lib.linux-x86_64-2.7/khmer/tests/test-data/paired-broken3.fq.1 -> build/bdist.linux-x86_64/egg/khmer/tests/test-data\r\n",
        "copying build/lib.linux-x86_64-2.7/khmer/tests/test-data/real-partition-tiny.fa -> build/bdist.linux-x86_64/egg/khmer/tests/test-data\r\n",
        "copying build/lib.linux-x86_64-2.7/khmer/tests/test-data/paired-mixed.fa -> build/bdist.linux-x86_64/egg/khmer/tests/test-data\r\n",
        "copying build/lib.linux-x86_64-2.7/khmer/tests/test-data/random-20-X2.fa -> build/bdist.linux-x86_64/egg/khmer/tests/test-data\r\n",
        "copying build/lib.linux-x86_64-2.7/khmer/tests/test-data/all-A.fa -> build/bdist.linux-x86_64/egg/khmer/tests/test-data\r\n",
        "copying build/lib.linux-x86_64-2.7/khmer/tests/test-data/test-abund-read-2.fq -> build/bdist.linux-x86_64/egg/khmer/tests/test-data\r\n",
        "copying build/lib.linux-x86_64-2.7/khmer/tests/test-data/real-partition-small.fa -> build/bdist.linux-x86_64/egg/khmer/tests/test-data\r\n",
        "copying build/lib.linux-x86_64-2.7/khmer/tests/test-data/random-20-a.fa.bz2 -> build/bdist.linux-x86_64/egg/khmer/tests/test-data\r\n",
        "copying build/lib.linux-x86_64-2.7/khmer/tests/test-data/paired-mixed.fq.pe -> build/bdist.linux-x86_64/egg/khmer/tests/test-data\r\n",
        "copying build/lib.linux-x86_64-2.7/khmer/tests/test-data/paired-mixed-2.fq -> build/bdist.linux-x86_64/egg/khmer/tests/test-data\r\n",
        "copying build/lib.linux-x86_64-2.7/khmer/tests/test-data/random-20-a.odd.fa -> build/bdist.linux-x86_64/egg/khmer/tests/test-data\r\n",
        "copying build/lib.linux-x86_64-2.7/khmer/tests/test-data/overlap.out -> build/bdist.linux-x86_64/egg/khmer/tests/test-data\r\n",
        "copying build/lib.linux-x86_64-2.7/khmer/tests/test-data/paired-broken.fq.1 -> build/bdist.linux-x86_64/egg/khmer/tests/test-data\r\n",
        "copying build/lib.linux-x86_64-2.7/khmer/tests/test-data/paired-broken2.fq.2 -> build/bdist.linux-x86_64/egg/khmer/tests/test-data\r\n",
        "copying build/lib.linux-x86_64-2.7/khmer/tests/test-data/old-style-format-w-comments.fq -> build/bdist.linux-x86_64/egg/khmer/tests/test-data\r\n",
        "copying build/lib.linux-x86_64-2.7/khmer/tests/test-data/test-empty.fa -> build/bdist.linux-x86_64/egg/khmer/tests/test-data\r\n",
        "copying build/lib.linux-x86_64-2.7/khmer/tests/test-data/fakelump.fa -> build/bdist.linux-x86_64/egg/khmer/tests/test-data\r\n",
        "copying build/lib.linux-x86_64-2.7/khmer/tests/test-data/paired.fa -> build/bdist.linux-x86_64/egg/khmer/tests/test-data\r\n",
        "copying build/lib.linux-x86_64-2.7/khmer/tests/test-data/paired-mixed-broken.fq -> build/bdist.linux-x86_64/egg/khmer/tests/test-data\r\n",
        "copying build/lib.linux-x86_64-2.7/khmer/tests/test-data/test-transcript.fa -> build/bdist.linux-x86_64/egg/khmer/tests/test-data\r\n",
        "copying build/lib.linux-x86_64-2.7/khmer/tests/test-data/random-20-a.fa.part -> build/bdist.linux-x86_64/egg/khmer/tests/test-data\r\n",
        "copying build/lib.linux-x86_64-2.7/khmer/tests/test-data/paired-mixed.fq.se -> build/bdist.linux-x86_64/egg/khmer/tests/test-data\r\n",
        "copying build/lib.linux-x86_64-2.7/khmer/tests/test-data/goodversion-k12.ht -> build/bdist.linux-x86_64/egg/khmer/tests/test-data\r\n",
        "copying build/lib.linux-x86_64-2.7/khmer/tests/test-data/test-overlap1.fa -> build/bdist.linux-x86_64/egg/khmer/tests/test-data\r\n",
        "copying build/lib.linux-x86_64-2.7/khmer/tests/test_version.py -> build/bdist.linux-x86_64/egg/khmer/tests\r\n",
        "copying build/lib.linux-x86_64-2.7/khmer/tests/test_hll.py -> build/bdist.linux-x86_64/egg/khmer/tests\r\n",
        "copying build/lib.linux-x86_64-2.7/khmer/tests/test_read_aligner.py -> build/bdist.linux-x86_64/egg/khmer/tests\r\n",
        "copying build/lib.linux-x86_64-2.7/khmer/tests/__init__.py -> build/bdist.linux-x86_64/egg/khmer/tests\r\n",
        "copying build/lib.linux-x86_64-2.7/khmer/tests/test_functions.py -> build/bdist.linux-x86_64/egg/khmer/tests\r\n",
        "copying build/lib.linux-x86_64-2.7/khmer/tests/test_counting_hash.py -> build/bdist.linux-x86_64/egg/khmer/tests\r\n",
        "copying build/lib.linux-x86_64-2.7/khmer/tests/test_scripts.py -> build/bdist.linux-x86_64/egg/khmer/tests\r\n",
        "copying build/lib.linux-x86_64-2.7/khmer/tests/test_counting_single.py -> build/bdist.linux-x86_64/egg/khmer/tests\r\n",
        "copying build/lib.linux-x86_64-2.7/khmer/tests/test_lump.py -> build/bdist.linux-x86_64/egg/khmer/tests\r\n",
        "copying build/lib.linux-x86_64-2.7/khmer/tests/test_threaded_sequence_processor.py -> build/bdist.linux-x86_64/egg/khmer/tests\r\n",
        "copying build/lib.linux-x86_64-2.7/khmer/tests/test_read_parsers.py -> build/bdist.linux-x86_64/egg/khmer/tests\r\n",
        "copying build/lib.linux-x86_64-2.7/khmer/tests/khmer_tst_utils.py -> build/bdist.linux-x86_64/egg/khmer/tests\r\n",
        "copying build/lib.linux-x86_64-2.7/khmer/tests/test_subset_graph.py -> build/bdist.linux-x86_64/egg/khmer/tests\r\n",
        "copying build/lib.linux-x86_64-2.7/khmer/tests/test_filter.py -> build/bdist.linux-x86_64/egg/khmer/tests\r\n",
        "copying build/lib.linux-x86_64-2.7/khmer/tests/test_script_arguments.py -> build/bdist.linux-x86_64/egg/khmer/tests\r\n",
        "copying build/lib.linux-x86_64-2.7/khmer/tests/.gitignore -> build/bdist.linux-x86_64/egg/khmer/tests\r\n",
        "copying build/lib.linux-x86_64-2.7/khmer/tests/test_sandbox_scripts.py -> build/bdist.linux-x86_64/egg/khmer/tests\r\n",
        "copying build/lib.linux-x86_64-2.7/khmer/kfile.py -> build/bdist.linux-x86_64/egg/khmer\r\n",
        "copying build/lib.linux-x86_64-2.7/khmer/_version.py -> build/bdist.linux-x86_64/egg/khmer\r\n",
        "copying build/lib.linux-x86_64-2.7/khmer/utils.py -> build/bdist.linux-x86_64/egg/khmer\r\n",
        "copying build/lib.linux-x86_64-2.7/khmer/khmer_args.py -> build/bdist.linux-x86_64/egg/khmer\r\n",
        "copying build/lib.linux-x86_64-2.7/khmer/_khmermodule.so -> build/bdist.linux-x86_64/egg/khmer\r\n",
        "byte-compiling build/bdist.linux-x86_64/egg/khmer/thread_utils.py to thread_utils.pyc\r\n",
        "byte-compiling build/bdist.linux-x86_64/egg/khmer/__init__.py to __init__.pyc\r\n",
        "byte-compiling build/bdist.linux-x86_64/egg/khmer/tests/test_hashbits_obj.py to test_hashbits_obj.pyc\r\n",
        "byte-compiling build/bdist.linux-x86_64/egg/khmer/tests/test_graph.py to test_graph.pyc\r\n",
        "byte-compiling build/bdist.linux-x86_64/egg/khmer/tests/test_hashbits.py to test_hashbits.pyc\r\n"
       ]
      },
      {
       "output_type": "stream",
       "stream": "stdout",
       "text": [
        "byte-compiling build/bdist.linux-x86_64/egg/khmer/tests/test_labelhash.py to test_labelhash.pyc\r\n",
        "byte-compiling build/bdist.linux-x86_64/egg/khmer/tests/test_version.py to test_version.pyc\r\n",
        "byte-compiling build/bdist.linux-x86_64/egg/khmer/tests/test_hll.py to test_hll.pyc\r\n",
        "byte-compiling build/bdist.linux-x86_64/egg/khmer/tests/test_read_aligner.py to test_read_aligner.pyc\r\n",
        "byte-compiling build/bdist.linux-x86_64/egg/khmer/tests/__init__.py to __init__.pyc\r\n",
        "byte-compiling build/bdist.linux-x86_64/egg/khmer/tests/test_functions.py to test_functions.pyc\r\n",
        "byte-compiling build/bdist.linux-x86_64/egg/khmer/tests/test_counting_hash.py to test_counting_hash.pyc\r\n",
        "byte-compiling build/bdist.linux-x86_64/egg/khmer/tests/test_scripts.py to test_scripts.pyc\r\n",
        "byte-compiling build/bdist.linux-x86_64/egg/khmer/tests/test_counting_single.py to test_counting_single.pyc\r\n",
        "byte-compiling build/bdist.linux-x86_64/egg/khmer/tests/test_lump.py to test_lump.pyc\r\n",
        "byte-compiling build/bdist.linux-x86_64/egg/khmer/tests/test_threaded_sequence_processor.py to test_threaded_sequence_processor.pyc\r\n",
        "byte-compiling build/bdist.linux-x86_64/egg/khmer/tests/test_read_parsers.py to test_read_parsers.pyc\r\n",
        "byte-compiling build/bdist.linux-x86_64/egg/khmer/tests/khmer_tst_utils.py to khmer_tst_utils.pyc\r\n",
        "byte-compiling build/bdist.linux-x86_64/egg/khmer/tests/test_subset_graph.py to test_subset_graph.pyc\r\n"
       ]
      },
      {
       "output_type": "stream",
       "stream": "stdout",
       "text": [
        "byte-compiling build/bdist.linux-x86_64/egg/khmer/tests/test_filter.py to test_filter.pyc\r\n",
        "byte-compiling build/bdist.linux-x86_64/egg/khmer/tests/test_script_arguments.py to test_script_arguments.pyc\r\n",
        "byte-compiling build/bdist.linux-x86_64/egg/khmer/tests/test_sandbox_scripts.py to test_sandbox_scripts.pyc\r\n",
        "byte-compiling build/bdist.linux-x86_64/egg/khmer/kfile.py to kfile.pyc\r\n",
        "byte-compiling build/bdist.linux-x86_64/egg/khmer/_version.py to _version.pyc\r\n",
        "byte-compiling build/bdist.linux-x86_64/egg/khmer/utils.py to utils.pyc\r\n",
        "byte-compiling build/bdist.linux-x86_64/egg/khmer/khmer_args.py to khmer_args.pyc\r\n",
        "creating stub loader for khmer/_khmermodule.so\r\n",
        "byte-compiling build/bdist.linux-x86_64/egg/khmer/_khmer.py to _khmer.pyc\r\n",
        "creating build/bdist.linux-x86_64/egg/EGG-INFO\r\n",
        "installing scripts to build/bdist.linux-x86_64/egg/EGG-INFO/scripts\r\n",
        "running install_scripts\r\n",
        "running build_scripts\r\n",
        "creating build/bdist.linux-x86_64/egg/EGG-INFO/scripts\r\n",
        "copying build/scripts-2.7/count-median.py -> build/bdist.linux-x86_64/egg/EGG-INFO/scripts\r\n",
        "copying build/scripts-2.7/split-paired-reads.py -> build/bdist.linux-x86_64/egg/EGG-INFO/scripts\r\n",
        "copying build/scripts-2.7/filter-abund-single.py -> build/bdist.linux-x86_64/egg/EGG-INFO/scripts\r\n",
        "copying build/scripts-2.7/filter-abund.py -> build/bdist.linux-x86_64/egg/EGG-INFO/scripts\r\n",
        "copying build/scripts-2.7/abundance-dist.py -> build/bdist.linux-x86_64/egg/EGG-INFO/scripts\r\n",
        "copying build/scripts-2.7/partition-graph.py -> build/bdist.linux-x86_64/egg/EGG-INFO/scripts\r\n",
        "copying build/scripts-2.7/filter-stoptags.py -> build/bdist.linux-x86_64/egg/EGG-INFO/scripts\r\n",
        "copying build/scripts-2.7/merge-partitions.py -> build/bdist.linux-x86_64/egg/EGG-INFO/scripts\r\n",
        "copying build/scripts-2.7/sample-reads-randomly.py -> build/bdist.linux-x86_64/egg/EGG-INFO/scripts\r\n",
        "copying build/scripts-2.7/normalize-by-median.py -> build/bdist.linux-x86_64/egg/EGG-INFO/scripts\r\n",
        "copying build/scripts-2.7/extract-partitions.py -> build/bdist.linux-x86_64/egg/EGG-INFO/scripts\r\n",
        "copying build/scripts-2.7/fastq-to-fasta.py -> build/bdist.linux-x86_64/egg/EGG-INFO/scripts\r\n",
        "copying build/scripts-2.7/make-initial-stoptags.py -> build/bdist.linux-x86_64/egg/EGG-INFO/scripts\r\n",
        "copying build/scripts-2.7/count-overlap.py -> build/bdist.linux-x86_64/egg/EGG-INFO/scripts\r\n",
        "copying build/scripts-2.7/abundance-dist-single.py -> build/bdist.linux-x86_64/egg/EGG-INFO/scripts\r\n",
        "copying build/scripts-2.7/load-into-counting.py -> build/bdist.linux-x86_64/egg/EGG-INFO/scripts\r\n",
        "copying build/scripts-2.7/interleave-reads.py -> build/bdist.linux-x86_64/egg/EGG-INFO/scripts\r\n",
        "copying build/scripts-2.7/load-graph.py -> build/bdist.linux-x86_64/egg/EGG-INFO/scripts\r\n",
        "copying build/scripts-2.7/trim-low-abund.py -> build/bdist.linux-x86_64/egg/EGG-INFO/scripts\r\n",
        "copying build/scripts-2.7/readstats.py -> build/bdist.linux-x86_64/egg/EGG-INFO/scripts\r\n",
        "copying build/scripts-2.7/find-knots.py -> build/bdist.linux-x86_64/egg/EGG-INFO/scripts\r\n",
        "copying build/scripts-2.7/annotate-partitions.py -> build/bdist.linux-x86_64/egg/EGG-INFO/scripts\r\n",
        "copying build/scripts-2.7/extract-paired-reads.py -> build/bdist.linux-x86_64/egg/EGG-INFO/scripts\r\n",
        "copying build/scripts-2.7/extract-long-sequences.py -> build/bdist.linux-x86_64/egg/EGG-INFO/scripts\r\n",
        "copying build/scripts-2.7/do-partition.py -> build/bdist.linux-x86_64/egg/EGG-INFO/scripts\r\n",
        "changing mode of build/bdist.linux-x86_64/egg/EGG-INFO/scripts/count-median.py to 755\r\n",
        "changing mode of build/bdist.linux-x86_64/egg/EGG-INFO/scripts/split-paired-reads.py to 755\r\n",
        "changing mode of build/bdist.linux-x86_64/egg/EGG-INFO/scripts/filter-abund-single.py to 755\r\n",
        "changing mode of build/bdist.linux-x86_64/egg/EGG-INFO/scripts/filter-abund.py to 755\r\n",
        "changing mode of build/bdist.linux-x86_64/egg/EGG-INFO/scripts/abundance-dist.py to 755\r\n",
        "changing mode of build/bdist.linux-x86_64/egg/EGG-INFO/scripts/partition-graph.py to 755\r\n",
        "changing mode of build/bdist.linux-x86_64/egg/EGG-INFO/scripts/filter-stoptags.py to 755\r\n",
        "changing mode of build/bdist.linux-x86_64/egg/EGG-INFO/scripts/merge-partitions.py to 755\r\n",
        "changing mode of build/bdist.linux-x86_64/egg/EGG-INFO/scripts/sample-reads-randomly.py to 755\r\n",
        "changing mode of build/bdist.linux-x86_64/egg/EGG-INFO/scripts/normalize-by-median.py to 755\r\n",
        "changing mode of build/bdist.linux-x86_64/egg/EGG-INFO/scripts/extract-partitions.py to 755\r\n",
        "changing mode of build/bdist.linux-x86_64/egg/EGG-INFO/scripts/fastq-to-fasta.py to 755\r\n",
        "changing mode of build/bdist.linux-x86_64/egg/EGG-INFO/scripts/make-initial-stoptags.py to 755\r\n",
        "changing mode of build/bdist.linux-x86_64/egg/EGG-INFO/scripts/count-overlap.py to 755\r\n",
        "changing mode of build/bdist.linux-x86_64/egg/EGG-INFO/scripts/abundance-dist-single.py to 755\r\n",
        "changing mode of build/bdist.linux-x86_64/egg/EGG-INFO/scripts/load-into-counting.py to 755\r\n",
        "changing mode of build/bdist.linux-x86_64/egg/EGG-INFO/scripts/interleave-reads.py to 755\r\n",
        "changing mode of build/bdist.linux-x86_64/egg/EGG-INFO/scripts/load-graph.py to 755\r\n",
        "changing mode of build/bdist.linux-x86_64/egg/EGG-INFO/scripts/trim-low-abund.py to 755\r\n",
        "changing mode of build/bdist.linux-x86_64/egg/EGG-INFO/scripts/readstats.py to 755\r\n",
        "changing mode of build/bdist.linux-x86_64/egg/EGG-INFO/scripts/find-knots.py to 755\r\n",
        "changing mode of build/bdist.linux-x86_64/egg/EGG-INFO/scripts/annotate-partitions.py to 755\r\n",
        "changing mode of build/bdist.linux-x86_64/egg/EGG-INFO/scripts/extract-paired-reads.py to 755\r\n",
        "changing mode of build/bdist.linux-x86_64/egg/EGG-INFO/scripts/extract-long-sequences.py to 755\r\n",
        "changing mode of build/bdist.linux-x86_64/egg/EGG-INFO/scripts/do-partition.py to 755\r\n",
        "copying khmer.egg-info/PKG-INFO -> build/bdist.linux-x86_64/egg/EGG-INFO\r\n",
        "copying khmer.egg-info/SOURCES.txt -> build/bdist.linux-x86_64/egg/EGG-INFO\r\n",
        "copying khmer.egg-info/dependency_links.txt -> build/bdist.linux-x86_64/egg/EGG-INFO\r\n",
        "copying khmer.egg-info/not-zip-safe -> build/bdist.linux-x86_64/egg/EGG-INFO\r\n",
        "copying khmer.egg-info/requires.txt -> build/bdist.linux-x86_64/egg/EGG-INFO\r\n",
        "copying khmer.egg-info/top_level.txt -> build/bdist.linux-x86_64/egg/EGG-INFO\r\n",
        "writing build/bdist.linux-x86_64/egg/EGG-INFO/native_libs.txt\r\n",
        "creating 'dist/khmer-1.4_rc1_287_gcc8b337-py2.7-linux-x86_64.egg' and adding 'build/bdist.linux-x86_64/egg' to it\r\n"
       ]
      },
      {
       "output_type": "stream",
       "stream": "stdout",
       "text": [
        "removing 'build/bdist.linux-x86_64/egg' (and everything under it)\r\n"
       ]
      },
      {
       "output_type": "stream",
       "stream": "stdout",
       "text": [
        "Processing khmer-1.4_rc1_287_gcc8b337-py2.7-linux-x86_64.egg\r\n",
        "removing '/usr/local/lib/python2.7/dist-packages/khmer-1.4_rc1_287_gcc8b337-py2.7-linux-x86_64.egg' (and everything under it)\r\n",
        "creating /usr/local/lib/python2.7/dist-packages/khmer-1.4_rc1_287_gcc8b337-py2.7-linux-x86_64.egg\r\n",
        "Extracting khmer-1.4_rc1_287_gcc8b337-py2.7-linux-x86_64.egg to /usr/local/lib/python2.7/dist-packages\r\n"
       ]
      },
      {
       "output_type": "stream",
       "stream": "stdout",
       "text": [
        "Removing khmer 1.3 from easy-install.pth file\r\n",
        "khmer 1.4-rc1-287-gcc8b337 is already the active version in easy-install.pth\r\n",
        "Installing count-median.py script to /usr/local/bin\r\n",
        "Installing split-paired-reads.py script to /usr/local/bin\r\n",
        "Installing filter-abund-single.py script to /usr/local/bin\r\n",
        "Installing filter-abund.py script to /usr/local/bin\r\n",
        "Installing abundance-dist.py script to /usr/local/bin\r\n",
        "Installing partition-graph.py script to /usr/local/bin\r\n",
        "Installing filter-stoptags.py script to /usr/local/bin\r\n",
        "Installing merge-partitions.py script to /usr/local/bin\r\n",
        "Installing sample-reads-randomly.py script to /usr/local/bin\r\n",
        "Installing normalize-by-median.py script to /usr/local/bin\r\n",
        "Installing extract-partitions.py script to /usr/local/bin\r\n",
        "Installing fastq-to-fasta.py script to /usr/local/bin\r\n",
        "Installing make-initial-stoptags.py script to /usr/local/bin\r\n",
        "Installing count-overlap.py script to /usr/local/bin\r\n",
        "Installing abundance-dist-single.py script to /usr/local/bin\r\n",
        "Installing load-into-counting.py script to /usr/local/bin\r\n",
        "Installing interleave-reads.py script to /usr/local/bin\r\n",
        "Installing load-graph.py script to /usr/local/bin\r\n",
        "Installing trim-low-abund.py script to /usr/local/bin\r\n",
        "Installing readstats.py script to /usr/local/bin\r\n",
        "Installing find-knots.py script to /usr/local/bin\r\n",
        "Installing annotate-partitions.py script to /usr/local/bin\r\n",
        "Installing extract-paired-reads.py script to /usr/local/bin\r\n",
        "Installing extract-long-sequences.py script to /usr/local/bin\r\n",
        "Installing do-partition.py script to /usr/local/bin\r\n",
        "\r\n",
        "Installed /usr/local/lib/python2.7/dist-packages/khmer-1.4_rc1_287_gcc8b337-py2.7-linux-x86_64.egg\r\n",
        "Processing dependencies for khmer==1.4-rc1-287-gcc8b337\r\n",
        "Searching for screed==0.8\r\n",
        "Best match: screed 0.8\r\n",
        "Adding screed 0.8 to easy-install.pth file\r\n",
        "\r\n",
        "Using /usr/local/lib/python2.7/dist-packages\r\n",
        "Searching for bz2file==0.98\r\n",
        "Best match: bz2file 0.98\r\n",
        "bz2file 0.98 is already the active version in easy-install.pth\r\n",
        "\r\n",
        "Using /usr/local/lib/python2.7/dist-packages\r\n",
        "Finished processing dependencies for khmer==1.4-rc1-287-gcc8b337\r\n"
       ]
      }
     ],
     "prompt_number": 1
    },
    {
     "cell_type": "markdown",
     "metadata": {},
     "source": [
      "Next, to estimate the number unique k-mers in the datasets for multiple k's (17, 21, 25, 29, 33, 37), execute the scripts below.  The script output will identify the unique k-mers but will also save in a report named unique_count."
     ]
    },
    {
     "cell_type": "code",
     "collapsed": false,
     "input": [
      "!python /home/ubuntu/frontiers-review-2015/unique-kmers.py -R unique_count -k 17 SRR172903.fastq\n",
      "!python /home/ubuntu/frontiers-review-2015/unique-kmers.py -R unique_count -k 21 SRR172903.fastq\n",
      "!python /home/ubuntu/frontiers-review-2015/unique-kmers.py -R unique_count -k 25 SRR172903.fastq\n",
      "!python /home/ubuntu/frontiers-review-2015/unique-kmers.py -R unique_count -k 29 SRR172903.fastq\n",
      "!python /home/ubuntu/frontiers-review-2015/unique-kmers.py -R unique_count -k 33 SRR172903.fastq\n",
      "!python /home/ubuntu/frontiers-review-2015/unique-kmers.py -R unique_count -k 37 SRR172903.fastq"
     ],
     "language": "python",
     "metadata": {},
     "outputs": [
      {
       "output_type": "stream",
       "stream": "stdout",
       "text": [
        "\r\n",
        "|| This is the script 'unique-kmers.py' in khmer.\r\n",
        "|| You are running khmer version unknown\r\n",
        "|| You are also using screed version 0.8\r\n",
        "||\r\n",
        "|| If you use this script in a publication, please cite EACH of the following:\r\n",
        "||\r\n",
        "||   * MR Crusoe et al., 2014. http://dx.doi.org/10.6084/m9.figshare.979190\r\n",
        "||   * A. D\u00f6ring et al. http://dx.doi.org:80/10.1186/1471-2105-9-11\r\n",
        "||   * Irber and Brown, unpublished\r\n",
        "||\r\n",
        "|| Please see http://khmer.readthedocs.org/en/latest/citations.html for details.\r\n",
        "\r\n"
       ]
      },
      {
       "output_type": "stream",
       "stream": "stdout",
       "text": [
        "Estimated number of unique k-mers: 92357359\r\n"
       ]
      },
      {
       "output_type": "stream",
       "stream": "stdout",
       "text": [
        "\r\n",
        "|| This is the script 'unique-kmers.py' in khmer.\r\n",
        "|| You are running khmer version unknown\r\n",
        "|| You are also using screed version 0.8\r\n",
        "||\r\n",
        "|| If you use this script in a publication, please cite EACH of the following:\r\n",
        "||\r\n",
        "||   * MR Crusoe et al., 2014. http://dx.doi.org/10.6084/m9.figshare.979190\r\n",
        "||   * A. D\u00f6ring et al. http://dx.doi.org:80/10.1186/1471-2105-9-11\r\n",
        "||   * Irber and Brown, unpublished\r\n",
        "||\r\n",
        "|| Please see http://khmer.readthedocs.org/en/latest/citations.html for details.\r\n",
        "\r\n"
       ]
      },
      {
       "output_type": "stream",
       "stream": "stdout",
       "text": [
        "Estimated number of unique k-mers: 107443503\r\n"
       ]
      },
      {
       "output_type": "stream",
       "stream": "stdout",
       "text": [
        "\r\n",
        "|| This is the script 'unique-kmers.py' in khmer.\r\n",
        "|| You are running khmer version unknown\r\n",
        "|| You are also using screed version 0.8\r\n",
        "||\r\n",
        "|| If you use this script in a publication, please cite EACH of the following:\r\n",
        "||\r\n",
        "||   * MR Crusoe et al., 2014. http://dx.doi.org/10.6084/m9.figshare.979190\r\n",
        "||   * A. D\u00f6ring et al. http://dx.doi.org:80/10.1186/1471-2105-9-11\r\n",
        "||   * Irber and Brown, unpublished\r\n",
        "||\r\n",
        "|| Please see http://khmer.readthedocs.org/en/latest/citations.html for details.\r\n",
        "\r\n"
       ]
      },
      {
       "output_type": "stream",
       "stream": "stdout",
       "text": [
        "Estimated number of unique k-mers: 115917051\r\n"
       ]
      },
      {
       "output_type": "stream",
       "stream": "stdout",
       "text": [
        "\r\n",
        "|| This is the script 'unique-kmers.py' in khmer.\r\n",
        "|| You are running khmer version unknown\r\n",
        "|| You are also using screed version 0.8\r\n",
        "||\r\n",
        "|| If you use this script in a publication, please cite EACH of the following:\r\n",
        "||\r\n",
        "||   * MR Crusoe et al., 2014. http://dx.doi.org/10.6084/m9.figshare.979190\r\n",
        "||   * A. D\u00f6ring et al. http://dx.doi.org:80/10.1186/1471-2105-9-11\r\n",
        "||   * Irber and Brown, unpublished\r\n",
        "||\r\n",
        "|| Please see http://khmer.readthedocs.org/en/latest/citations.html for details.\r\n",
        "\r\n"
       ]
      },
      {
       "output_type": "stream",
       "stream": "stdout",
       "text": [
        "Estimated number of unique k-mers: 119779083\r\n"
       ]
      },
      {
       "output_type": "stream",
       "stream": "stdout",
       "text": [
        "\r\n",
        "|| This is the script 'unique-kmers.py' in khmer.\r\n",
        "|| You are running khmer version unknown\r\n",
        "|| You are also using screed version 0.8\r\n",
        "||\r\n",
        "|| If you use this script in a publication, please cite EACH of the following:\r\n",
        "||\r\n",
        "||   * MR Crusoe et al., 2014. http://dx.doi.org/10.6084/m9.figshare.979190\r\n",
        "||   * A. D\u00f6ring et al. http://dx.doi.org:80/10.1186/1471-2105-9-11\r\n",
        "||   * Irber and Brown, unpublished\r\n",
        "||\r\n",
        "|| Please see http://khmer.readthedocs.org/en/latest/citations.html for details.\r\n",
        "\r\n"
       ]
      },
      {
       "output_type": "stream",
       "stream": "stdout",
       "text": [
        "Estimated number of unique k-mers: 123079072\r\n"
       ]
      },
      {
       "output_type": "stream",
       "stream": "stdout",
       "text": [
        "\r\n",
        "|| This is the script 'unique-kmers.py' in khmer.\r\n",
        "|| You are running khmer version unknown\r\n",
        "|| You are also using screed version 0.8\r\n",
        "||\r\n",
        "|| If you use this script in a publication, please cite EACH of the following:\r\n",
        "||\r\n",
        "||   * MR Crusoe et al., 2014. http://dx.doi.org/10.6084/m9.figshare.979190\r\n",
        "||   * A. D\u00f6ring et al. http://dx.doi.org:80/10.1186/1471-2105-9-11\r\n",
        "||   * Irber and Brown, unpublished\r\n",
        "||\r\n",
        "|| Please see http://khmer.readthedocs.org/en/latest/citations.html for details.\r\n",
        "\r\n"
       ]
      },
      {
       "output_type": "stream",
       "stream": "stdout",
       "text": [
        "Estimated number of unique k-mers: 121510649\r\n"
       ]
      }
     ],
     "prompt_number": 8
    },
    {
     "cell_type": "markdown",
     "metadata": {},
     "source": [
      "You can see that this file now has in the first column the k-mer length and in the second column the estimated number of words of length k in the metagenomes. If you had multiple genomes, you could compare diversity of e.g., the total number of k-mers across datasets."
     ]
    },
    {
     "cell_type": "code",
     "collapsed": false,
     "input": [
      "!cat unique_count"
     ],
     "language": "python",
     "metadata": {},
     "outputs": [
      {
       "output_type": "stream",
       "stream": "stdout",
       "text": [
        "\r\n",
        "17 92357359\r\n",
        "21 107443503\r\n",
        "25 115917051\r\n",
        "29 119779083\r\n",
        "33 123079072\r\n",
        "37 121510649"
       ]
      }
     ],
     "prompt_number": 11
    },
    {
     "cell_type": "markdown",
     "metadata": {},
     "source": [
      "### Getting a sequence coverage profile:  What genes are present in my metagenome?\n",
      "\n",
      "\n",
      "Most metagenomic analysis require one to estimate the abundance of reference genes (e.g., orginating from genomes or one's own metagenomic assembly).  This tutorial will cover both cases where references are available or unavailable (requiring de novo assembly).  \n",
      "\n",
      "### Case I - Reference genomes available.  \n",
      "\n",
      "For the HMP mock metagenome, the HMP has sequenced the genomes of the isolates used for this simulated dataset.  The list of these genomes can be obtained on the HMP website, and we provide it here (you downloaded it above from Github -- a fantastic tool for collaboratively sharing data and code).  "
     ]
    },
    {
     "cell_type": "code",
     "collapsed": false,
     "input": [
      "!cat /home/ubuntu/frontiers-review-2015/ncbi_acc.txt"
     ],
     "language": "python",
     "metadata": {},
     "outputs": [
      {
       "output_type": "stream",
       "stream": "stdout",
       "text": [
        "NC_005008.1\r\n",
        "NC_005007.1\r\n",
        "NC_005003.1\r\n",
        "NC_005006.1\r\n",
        "NC_005004.1\r\n",
        "NC_009084.1\r\n",
        "NC_005005.1\r\n",
        "NC_000958.1\r\n",
        "NC_000959.1\r\n",
        "NC_009083.1\r\n",
        "NC_001264.1\r\n",
        "NC_001263.1\r\n",
        "NC_004461.1\r\n",
        "NC_009008.1\r\n",
        "NC_010079.1\r\n",
        "NC_007490.1\r\n",
        "NC_009007.1\r\n",
        "NC_007489.1\r\n",
        "NC_004350.1\r\n",
        "NC_007488.1\r\n",
        "NC_007493.1\r\n",
        "NC_007494.1\r\n",
        "NC_009085.1\r\n",
        "NC_009515.1\r\n",
        "NC_009614.1\r\n",
        "NC_000915.1\r\n",
        "NC_003028.3\r\n",
        "NC_000913.2\r\n",
        "NC_006085.1\r\n",
        "NC_003112.2\r\n"
       ]
      }
     ],
     "prompt_number": 13
    },
    {
     "cell_type": "markdown",
     "metadata": {},
     "source": [
      "The following command downloads all the data and scripts into a directory called \"frontiers-review-2015.\"  The next step is that we will use a script (\"fetch-genomes-fasta.py\") to download a list of genomes (listed as separate lines in \"ncbi_acc.txt\") into a directory named \"genomes\"."
     ]
    },
    {
     "cell_type": "code",
     "collapsed": false,
     "input": [
      "!python /home/ubuntu/frontiers-review-2015/fetch-genomes-fasta.py /home/ubuntu/frontiers-review-2015/ncbi_acc.txt genomes"
     ],
     "language": "python",
     "metadata": {},
     "outputs": [
      {
       "output_type": "stream",
       "stream": "stdout",
       "text": [
        "Fetching NC_005008.1..."
       ]
      },
      {
       "output_type": "stream",
       "stream": "stdout",
       "text": [
        "Done\r\n"
       ]
      },
      {
       "output_type": "stream",
       "stream": "stdout",
       "text": [
        "Fetching NC_005007.1..."
       ]
      },
      {
       "output_type": "stream",
       "stream": "stdout",
       "text": [
        "Done\r\n"
       ]
      },
      {
       "output_type": "stream",
       "stream": "stdout",
       "text": [
        "Fetching NC_005003.1...Done\r\n"
       ]
      },
      {
       "output_type": "stream",
       "stream": "stdout",
       "text": [
        "Fetching NC_005006.1..."
       ]
      },
      {
       "output_type": "stream",
       "stream": "stdout",
       "text": [
        "Done\r\n"
       ]
      },
      {
       "output_type": "stream",
       "stream": "stdout",
       "text": [
        "Fetching NC_005004.1..."
       ]
      },
      {
       "output_type": "stream",
       "stream": "stdout",
       "text": [
        "Done\r\n"
       ]
      },
      {
       "output_type": "stream",
       "stream": "stdout",
       "text": [
        "Fetching NC_009084.1..."
       ]
      },
      {
       "output_type": "stream",
       "stream": "stdout",
       "text": [
        "Done\r\n"
       ]
      },
      {
       "output_type": "stream",
       "stream": "stdout",
       "text": [
        "Fetching NC_005005.1..."
       ]
      },
      {
       "output_type": "stream",
       "stream": "stdout",
       "text": [
        "Done\r\n"
       ]
      },
      {
       "output_type": "stream",
       "stream": "stdout",
       "text": [
        "Fetching NC_000958.1..."
       ]
      },
      {
       "output_type": "stream",
       "stream": "stdout",
       "text": [
        "Done\r\n"
       ]
      },
      {
       "output_type": "stream",
       "stream": "stdout",
       "text": [
        "Fetching NC_000959.1..."
       ]
      },
      {
       "output_type": "stream",
       "stream": "stdout",
       "text": [
        "Done\r\n"
       ]
      },
      {
       "output_type": "stream",
       "stream": "stdout",
       "text": [
        "Fetching NC_009083.1..."
       ]
      },
      {
       "output_type": "stream",
       "stream": "stdout",
       "text": [
        "Done\r\n"
       ]
      },
      {
       "output_type": "stream",
       "stream": "stdout",
       "text": [
        "Fetching NC_001264.1..."
       ]
      },
      {
       "output_type": "stream",
       "stream": "stdout",
       "text": [
        "Done\r\n"
       ]
      },
      {
       "output_type": "stream",
       "stream": "stdout",
       "text": [
        "Fetching NC_001263.1..."
       ]
      },
      {
       "output_type": "stream",
       "stream": "stdout",
       "text": [
        "Done\r\n"
       ]
      },
      {
       "output_type": "stream",
       "stream": "stdout",
       "text": [
        "Fetching NC_004461.1..."
       ]
      },
      {
       "output_type": "stream",
       "stream": "stdout",
       "text": [
        "Done\r\n"
       ]
      },
      {
       "output_type": "stream",
       "stream": "stdout",
       "text": [
        "Fetching NC_009008.1..."
       ]
      },
      {
       "output_type": "stream",
       "stream": "stdout",
       "text": [
        "Done\r\n"
       ]
      },
      {
       "output_type": "stream",
       "stream": "stdout",
       "text": [
        "Fetching NC_010079.1..."
       ]
      },
      {
       "output_type": "stream",
       "stream": "stdout",
       "text": [
        "Done\r\n"
       ]
      },
      {
       "output_type": "stream",
       "stream": "stdout",
       "text": [
        "Fetching NC_007490.1..."
       ]
      },
      {
       "output_type": "stream",
       "stream": "stdout",
       "text": [
        "Done\r\n"
       ]
      },
      {
       "output_type": "stream",
       "stream": "stdout",
       "text": [
        "Fetching NC_009007.1..."
       ]
      },
      {
       "output_type": "stream",
       "stream": "stdout",
       "text": [
        "Done\r\n"
       ]
      },
      {
       "output_type": "stream",
       "stream": "stdout",
       "text": [
        "Fetching NC_007489.1..."
       ]
      },
      {
       "output_type": "stream",
       "stream": "stdout",
       "text": [
        "Done\r\n"
       ]
      },
      {
       "output_type": "stream",
       "stream": "stdout",
       "text": [
        "Fetching NC_004350.1..."
       ]
      },
      {
       "output_type": "stream",
       "stream": "stdout",
       "text": [
        "Done\r\n"
       ]
      },
      {
       "output_type": "stream",
       "stream": "stdout",
       "text": [
        "Fetching NC_007488.1..."
       ]
      },
      {
       "output_type": "stream",
       "stream": "stdout",
       "text": [
        "Done\r\n"
       ]
      },
      {
       "output_type": "stream",
       "stream": "stdout",
       "text": [
        "Fetching NC_007493.1..."
       ]
      },
      {
       "output_type": "stream",
       "stream": "stdout",
       "text": [
        "Done\r\n"
       ]
      },
      {
       "output_type": "stream",
       "stream": "stdout",
       "text": [
        "Fetching NC_007494.1..."
       ]
      },
      {
       "output_type": "stream",
       "stream": "stdout",
       "text": [
        "Done\r\n"
       ]
      },
      {
       "output_type": "stream",
       "stream": "stdout",
       "text": [
        "Fetching NC_009085.1..."
       ]
      },
      {
       "output_type": "stream",
       "stream": "stdout",
       "text": [
        "Done\r\n"
       ]
      },
      {
       "output_type": "stream",
       "stream": "stdout",
       "text": [
        "Fetching NC_009515.1..."
       ]
      },
      {
       "output_type": "stream",
       "stream": "stdout",
       "text": [
        "Done\r\n"
       ]
      },
      {
       "output_type": "stream",
       "stream": "stdout",
       "text": [
        "Fetching NC_009614.1..."
       ]
      },
      {
       "output_type": "stream",
       "stream": "stdout",
       "text": [
        "Done\r\n"
       ]
      },
      {
       "output_type": "stream",
       "stream": "stdout",
       "text": [
        "Fetching NC_000915.1..."
       ]
      },
      {
       "output_type": "stream",
       "stream": "stdout",
       "text": [
        "Done\r\n"
       ]
      },
      {
       "output_type": "stream",
       "stream": "stdout",
       "text": [
        "Fetching NC_003028.3..."
       ]
      },
      {
       "output_type": "stream",
       "stream": "stdout",
       "text": [
        "Done\r\n"
       ]
      },
      {
       "output_type": "stream",
       "stream": "stdout",
       "text": [
        "Fetching NC_000913.2..."
       ]
      },
      {
       "output_type": "stream",
       "stream": "stdout",
       "text": [
        "Done\r\n"
       ]
      },
      {
       "output_type": "stream",
       "stream": "stdout",
       "text": [
        "Fetching NC_006085.1..."
       ]
      },
      {
       "output_type": "stream",
       "stream": "stdout",
       "text": [
        "Done\r\n"
       ]
      },
      {
       "output_type": "stream",
       "stream": "stdout",
       "text": [
        "Fetching NC_003112.2..."
       ]
      },
      {
       "output_type": "stream",
       "stream": "stdout",
       "text": [
        "Done\r\n"
       ]
      }
     ],
     "prompt_number": 14
    },
    {
     "cell_type": "code",
     "collapsed": false,
     "input": [
      "!ls genomes/*fa"
     ],
     "language": "python",
     "metadata": {},
     "outputs": [
      {
       "output_type": "stream",
       "stream": "stdout",
       "text": [
        "genomes/NC_000913.2.fa\tgenomes/NC_005003.1.fa\tgenomes/NC_007493.1.fa\r\n",
        "genomes/NC_000915.1.fa\tgenomes/NC_005004.1.fa\tgenomes/NC_007494.1.fa\r\n",
        "genomes/NC_000958.1.fa\tgenomes/NC_005005.1.fa\tgenomes/NC_009007.1.fa\r\n",
        "genomes/NC_000959.1.fa\tgenomes/NC_005006.1.fa\tgenomes/NC_009008.1.fa\r\n",
        "genomes/NC_001263.1.fa\tgenomes/NC_005007.1.fa\tgenomes/NC_009083.1.fa\r\n",
        "genomes/NC_001264.1.fa\tgenomes/NC_005008.1.fa\tgenomes/NC_009084.1.fa\r\n",
        "genomes/NC_003028.3.fa\tgenomes/NC_006085.1.fa\tgenomes/NC_009085.1.fa\r\n",
        "genomes/NC_003112.2.fa\tgenomes/NC_007488.1.fa\tgenomes/NC_009515.1.fa\r\n",
        "genomes/NC_004350.1.fa\tgenomes/NC_007489.1.fa\tgenomes/NC_009614.1.fa\r\n",
        "genomes/NC_004461.1.fa\tgenomes/NC_007490.1.fa\tgenomes/NC_010079.1.fa\r\n"
       ]
      }
     ],
     "prompt_number": 16
    },
    {
     "cell_type": "markdown",
     "metadata": {},
     "source": [
      "### Estimating presence of metagenome in assembled contigs\n",
      "\n",
      "To estimate the representation of reference genes or genomes in your metagenome, you can align reads to references using read mapping software (e.g., Bowtie2, BWA, etc.).  In this tutorial, we will use Bowtie2 which we have previously installed on this server.  We will demonstrate mapping the metagenome to a single reference genome in this command. "
     ]
    },
    {
     "cell_type": "code",
     "collapsed": false,
     "input": [
      "!wget http://sourceforge.net/projects/bowtie-bio/files/bowtie2/2.2.5/bowtie2-2.2.5-linux-x86_64.zip"
     ],
     "language": "python",
     "metadata": {},
     "outputs": [
      {
       "output_type": "stream",
       "stream": "stdout",
       "text": [
        "--2015-04-18 22:53:29--  http://sourceforge.net/projects/bowtie-bio/files/bowtie2/2.2.5/bowtie2-2.2.5-linux-x86_64.zip\r\n",
        "Resolving sourceforge.net (sourceforge.net)... "
       ]
      },
      {
       "output_type": "stream",
       "stream": "stdout",
       "text": [
        "216.34.181.60\r\n",
        "Connecting to sourceforge.net (sourceforge.net)|216.34.181.60|:80... connected.\r\n",
        "HTTP request sent, awaiting response... "
       ]
      },
      {
       "output_type": "stream",
       "stream": "stdout",
       "text": [
        "302 Found\r\n",
        "Location: http://sourceforge.net/projects/bowtie-bio/files/bowtie2/2.2.5/bowtie2-2.2.5-linux-x86_64.zip/download [following]\r\n",
        "--2015-04-18 22:53:30--  http://sourceforge.net/projects/bowtie-bio/files/bowtie2/2.2.5/bowtie2-2.2.5-linux-x86_64.zip/download\r\n",
        "Connecting to sourceforge.net (sourceforge.net)|216.34.181.60|:80... "
       ]
      },
      {
       "output_type": "stream",
       "stream": "stdout",
       "text": [
        "connected.\r\n",
        "HTTP request sent, awaiting response... "
       ]
      },
      {
       "output_type": "stream",
       "stream": "stdout",
       "text": [
        "302 Found\r\n",
        "Location: http://downloads.sourceforge.net/project/bowtie-bio/bowtie2/2.2.5/bowtie2-2.2.5-linux-x86_64.zip?r=&ts=1429397610&use_mirror=softlayer-dal [following]\r\n",
        "--2015-04-18 22:53:30--  http://downloads.sourceforge.net/project/bowtie-bio/bowtie2/2.2.5/bowtie2-2.2.5-linux-x86_64.zip?r=&ts=1429397610&use_mirror=softlayer-dal\r\n",
        "Resolving downloads.sourceforge.net (downloads.sourceforge.net)... 216.34.181.59\r\n",
        "Connecting to downloads.sourceforge.net (downloads.sourceforge.net)|216.34.181.59|:80... connected.\r\n",
        "HTTP request sent, awaiting response... "
       ]
      },
      {
       "output_type": "stream",
       "stream": "stdout",
       "text": [
        "302 Found\r\n",
        "Location: http://softlayer-dal.dl.sourceforge.net/project/bowtie-bio/bowtie2/2.2.5/bowtie2-2.2.5-linux-x86_64.zip [following]\r\n",
        "--2015-04-18 22:53:30--  http://softlayer-dal.dl.sourceforge.net/project/bowtie-bio/bowtie2/2.2.5/bowtie2-2.2.5-linux-x86_64.zip\r\n",
        "Resolving softlayer-dal.dl.sourceforge.net (softlayer-dal.dl.sourceforge.net)... 67.228.157.232\r\n",
        "Connecting to softlayer-dal.dl.sourceforge.net (softlayer-dal.dl.sourceforge.net)|67.228.157.232|:80... "
       ]
      },
      {
       "output_type": "stream",
       "stream": "stdout",
       "text": [
        "connected.\r\n",
        "HTTP request sent, awaiting response... 200 OK\r\n",
        "Length: 26413746 (25M) [application/octet-stream]\r\n",
        "Saving to: \u2018bowtie2-2.2.5-linux-x86_64.zip\u2019\r\n",
        "\r\n",
        "\r",
        " 0% [                                       ] 0           --.-K/s              "
       ]
      },
      {
       "output_type": "stream",
       "stream": "stdout",
       "text": [
        "\r",
        " 1% [                                       ] 281,970     1.33MB/s             "
       ]
      },
      {
       "output_type": "stream",
       "stream": "stdout",
       "text": [
        "\r",
        " 5% [=>                                     ] 1,476,362   3.38MB/s             "
       ]
      },
      {
       "output_type": "stream",
       "stream": "stdout",
       "text": [
        "\r",
        "21% [=======>                               ] 5,700,674   8.52MB/s             "
       ]
      },
      {
       "output_type": "stream",
       "stream": "stdout",
       "text": [
        "\r",
        "47% [=================>                     ] 12,477,850  13.9MB/s             "
       ]
      },
      {
       "output_type": "stream",
       "stream": "stdout",
       "text": [
        "\r",
        "70% [==========================>            ] 18,611,530  16.8MB/s             "
       ]
      },
      {
       "output_type": "stream",
       "stream": "stdout",
       "text": [
        "\r",
        "92% [===================================>   ] 24,426,970  18.4MB/s             "
       ]
      },
      {
       "output_type": "stream",
       "stream": "stdout",
       "text": [
        "\r",
        "100%[======================================>] 26,413,746  18.8MB/s   in 1.3s   \r\n",
        "\r\n",
        "2015-04-18 22:53:31 (18.8 MB/s) - \u2018bowtie2-2.2.5-linux-x86_64.zip\u2019 saved [26413746/26413746]\r\n",
        "\r\n"
       ]
      }
     ],
     "prompt_number": 19
    },
    {
     "cell_type": "code",
     "collapsed": false,
     "input": [
      "!unzip bowtie2-2.2.5-linux-x86_64.zip"
     ],
     "language": "python",
     "metadata": {},
     "outputs": [
      {
       "output_type": "stream",
       "stream": "stdout",
       "text": [
        "Archive:  bowtie2-2.2.5-linux-x86_64.zip\r\n",
        "   creating: bowtie2-2.2.5/\r\n",
        "  inflating: bowtie2-2.2.5/AUTHORS   \r\n",
        "  inflating: bowtie2-2.2.5/bowtie2   \r\n",
        "  inflating: bowtie2-2.2.5/bowtie2-align-l  "
       ]
      },
      {
       "output_type": "stream",
       "stream": "stdout",
       "text": [
        "\r\n",
        "  inflating: bowtie2-2.2.5/bowtie2-align-l-debug  "
       ]
      },
      {
       "output_type": "stream",
       "stream": "stdout",
       "text": [
        "\r\n",
        "  inflating: bowtie2-2.2.5/bowtie2-align-s  "
       ]
      },
      {
       "output_type": "stream",
       "stream": "stdout",
       "text": [
        "\r\n",
        "  inflating: bowtie2-2.2.5/bowtie2-align-s-debug  "
       ]
      },
      {
       "output_type": "stream",
       "stream": "stdout",
       "text": [
        "\r\n",
        "  inflating: bowtie2-2.2.5/bowtie2-build  \r\n",
        "  inflating: bowtie2-2.2.5/bowtie2-build-l  "
       ]
      },
      {
       "output_type": "stream",
       "stream": "stdout",
       "text": [
        "\r\n",
        "  inflating: bowtie2-2.2.5/bowtie2-build-l-debug  \r\n",
        "  inflating: bowtie2-2.2.5/bowtie2-build-s  "
       ]
      },
      {
       "output_type": "stream",
       "stream": "stdout",
       "text": [
        "\r\n",
        "  inflating: bowtie2-2.2.5/bowtie2-build-s-debug  "
       ]
      },
      {
       "output_type": "stream",
       "stream": "stdout",
       "text": [
        "\r\n",
        "  inflating: bowtie2-2.2.5/bowtie2-inspect  \r\n",
        "  inflating: bowtie2-2.2.5/bowtie2-inspect-l  \r\n",
        "  inflating: bowtie2-2.2.5/bowtie2-inspect-l-debug  \r\n",
        "  inflating: bowtie2-2.2.5/bowtie2-inspect-s  "
       ]
      },
      {
       "output_type": "stream",
       "stream": "stdout",
       "text": [
        "\r\n",
        "  inflating: bowtie2-2.2.5/bowtie2-inspect-s-debug  \r\n",
        "   creating: bowtie2-2.2.5/doc/\r\n",
        "  inflating: bowtie2-2.2.5/doc/manual.html  \r\n",
        "  inflating: bowtie2-2.2.5/doc/README  \r\n",
        "  inflating: bowtie2-2.2.5/doc/style.css  \r\n",
        "   creating: bowtie2-2.2.5/example/\r\n",
        "   creating: bowtie2-2.2.5/example/index/\r\n",
        "  inflating: bowtie2-2.2.5/example/index/lambda_virus.1.bt2  "
       ]
      },
      {
       "output_type": "stream",
       "stream": "stdout",
       "text": [
        "\r\n",
        "  inflating: bowtie2-2.2.5/example/index/lambda_virus.2.bt2  \r\n",
        "  inflating: bowtie2-2.2.5/example/index/lambda_virus.3.bt2  \r\n",
        "  inflating: bowtie2-2.2.5/example/index/lambda_virus.4.bt2  \r\n",
        "  inflating: bowtie2-2.2.5/example/index/lambda_virus.rev.1.bt2  \r\n",
        "  inflating: bowtie2-2.2.5/example/index/lambda_virus.rev.2.bt2  \r\n",
        "   creating: bowtie2-2.2.5/example/reads/\r\n",
        "  inflating: bowtie2-2.2.5/example/reads/longreads.fq  "
       ]
      },
      {
       "output_type": "stream",
       "stream": "stdout",
       "text": [
        "\r\n",
        "  inflating: bowtie2-2.2.5/example/reads/reads_1.fq  \r\n",
        "  inflating: bowtie2-2.2.5/example/reads/reads_2.fq  "
       ]
      },
      {
       "output_type": "stream",
       "stream": "stdout",
       "text": [
        "\r\n",
        "  inflating: bowtie2-2.2.5/example/reads/simulate.pl  \r\n",
        "   creating: bowtie2-2.2.5/example/reference/\r\n",
        "  inflating: bowtie2-2.2.5/example/reference/lambda_virus.fa  \r\n",
        "  inflating: bowtie2-2.2.5/LICENSE   \r\n",
        "  inflating: bowtie2-2.2.5/MANUAL    \r\n",
        "  inflating: bowtie2-2.2.5/MANUAL.markdown  \r\n",
        "  inflating: bowtie2-2.2.5/NEWS      \r\n",
        "   creating: bowtie2-2.2.5/scripts/\r\n",
        "  inflating: bowtie2-2.2.5/scripts/convert_quals.pl  \r\n",
        "  inflating: bowtie2-2.2.5/scripts/debug_wrapper.pl  \r\n",
        "  inflating: bowtie2-2.2.5/scripts/gen_2b_occ_lookup.pl  \r\n",
        "  inflating: bowtie2-2.2.5/scripts/gen_occ_lookup.pl  \r\n",
        "  inflating: bowtie2-2.2.5/scripts/gen_solqual_lookup.pl  \r\n",
        "  inflating: bowtie2-2.2.5/scripts/infer_fraglen.pl  \r\n",
        "  inflating: bowtie2-2.2.5/scripts/make_a_thaliana_tair.sh  \r\n",
        "  inflating: bowtie2-2.2.5/scripts/make_b_taurus_UMD3.sh  \r\n",
        "  inflating: bowtie2-2.2.5/scripts/make_canFam2.sh  \r\n",
        "  inflating: bowtie2-2.2.5/scripts/make_c_elegans.sh  \r\n",
        "  inflating: bowtie2-2.2.5/scripts/make_d_melanogaster.sh  \r\n",
        "  inflating: bowtie2-2.2.5/scripts/make_e_coli.sh  \r\n",
        "  inflating: bowtie2-2.2.5/scripts/make_hg18.sh  \r\n",
        "  inflating: bowtie2-2.2.5/scripts/make_hg19.sh  \r\n",
        "  inflating: bowtie2-2.2.5/scripts/make_h_sapiens_ncbi36.sh  \r\n",
        "  inflating: bowtie2-2.2.5/scripts/make_h_sapiens_ncbi37.sh  \r\n",
        "  inflating: bowtie2-2.2.5/scripts/make_mm10.sh  \r\n",
        "  inflating: bowtie2-2.2.5/scripts/make_mm9.sh  \r\n",
        "  inflating: bowtie2-2.2.5/scripts/make_m_musculus_ncbi37.sh  \r\n",
        "  inflating: bowtie2-2.2.5/scripts/make_rn4.sh  \r\n",
        "  inflating: bowtie2-2.2.5/scripts/make_s_cerevisiae.sh  \r\n",
        "  inflating: bowtie2-2.2.5/TUTORIAL  \r\n",
        " extracting: bowtie2-2.2.5/VERSION   \r\n"
       ]
      }
     ],
     "prompt_number": 21
    },
    {
     "cell_type": "markdown",
     "metadata": {},
     "source": [
      "You can see all the executable commands for bowtie below."
     ]
    },
    {
     "cell_type": "code",
     "collapsed": false,
     "input": [
      "!ls bowtie2-2.2.5/"
     ],
     "language": "python",
     "metadata": {},
     "outputs": [
      {
       "output_type": "stream",
       "stream": "stdout",
       "text": [
        "AUTHORS\t\t       bowtie2-build-s\t\tLICENSE\r\n",
        "bowtie2\t\t       bowtie2-build-s-debug\tMANUAL\r\n",
        "bowtie2-align-l        bowtie2-inspect\t\tMANUAL.markdown\r\n",
        "bowtie2-align-l-debug  bowtie2-inspect-l\tNEWS\r\n",
        "bowtie2-align-s        bowtie2-inspect-l-debug\tscripts\r\n",
        "bowtie2-align-s-debug  bowtie2-inspect-s\tTUTORIAL\r\n",
        "bowtie2-build\t       bowtie2-inspect-s-debug\tVERSION\r\n",
        "bowtie2-build-l        doc\r\n",
        "bowtie2-build-l-debug  example\r\n"
       ]
      }
     ],
     "prompt_number": 24
    },
    {
     "cell_type": "markdown",
     "metadata": {},
     "source": [
      "I've written a script that will automatically map a set of reads to a given reference and output a file containing the number of reads that are mapped to a given reference.  To use this script, we'll also need to install samtools.  A samfile is a super compressed file that efficiently stores mapped information from mappers.  Samtools helps us interact with this file."
     ]
    },
    {
     "cell_type": "code",
     "collapsed": false,
     "input": [
      "!apt-get install samtools"
     ],
     "language": "python",
     "metadata": {},
     "outputs": [
      {
       "output_type": "stream",
       "stream": "stdout",
       "text": [
        "\r",
        "Reading package lists... 0%\r",
        "\r",
        "Reading package lists... 100%\r",
        "\r",
        "Reading package lists... Done\r",
        "\r\n",
        "\r",
        "Building dependency tree... 0%\r",
        "\r",
        "Building dependency tree... 0%\r"
       ]
      },
      {
       "output_type": "stream",
       "stream": "stdout",
       "text": [
        "\r",
        "Building dependency tree... 50%\r",
        "\r",
        "Building dependency tree... 50%\r"
       ]
      },
      {
       "output_type": "stream",
       "stream": "stdout",
       "text": [
        "\r",
        "Building dependency tree       \r",
        "\r\n",
        "\r",
        "Reading state information... 0%\r",
        "\r",
        "Reading state information... 0%\r",
        "\r",
        "Reading state information... Done\r",
        "\r\n"
       ]
      },
      {
       "output_type": "stream",
       "stream": "stdout",
       "text": [
        "The following NEW packages will be installed:\r\n",
        "  samtools\r\n",
        "0 upgraded, 1 newly installed, 0 to remove and 14 not upgraded.\r\n",
        "Need to get 560 kB of archives.\r\n",
        "After this operation, 1,336 kB of additional disk space will be used.\r\n",
        "\r",
        "\r",
        "0% [Working]"
       ]
      },
      {
       "output_type": "stream",
       "stream": "stdout",
       "text": [
        "\r",
        "            \r",
        "Get:1 http://us-east-1.ec2.archive.ubuntu.com/ubuntu/ saucy/universe samtools amd64 0.1.19-1 [560 kB]\r\n",
        "\r",
        "            \r",
        "3% [1 samtools 14.2 kB/560 kB 3%]"
       ]
      },
      {
       "output_type": "stream",
       "stream": "stdout",
       "text": [
        "\r",
        "                                 \r",
        "31% [1 samtools 173 kB/560 kB 31%]"
       ]
      },
      {
       "output_type": "stream",
       "stream": "stdout",
       "text": [
        "\r",
        "78% [1 samtools 434 kB/560 kB 78%]"
       ]
      },
      {
       "output_type": "stream",
       "stream": "stdout",
       "text": [
        "\r",
        "                                  \r",
        "100% [Working]\r",
        "              \r",
        "Fetched 560 kB in 1s (350 kB/s)\r\n"
       ]
      },
      {
       "output_type": "stream",
       "stream": "stdout",
       "text": [
        "Selecting previously unselected package samtools.\r\n",
        "(Reading database ... \r",
        "(Reading database ... 5%\r",
        "(Reading database ... 10%\r",
        "(Reading database ... 15%\r",
        "(Reading database ... 20%\r",
        "(Reading database ... 25%\r",
        "(Reading database ... 30%\r",
        "(Reading database ... 35%\r",
        "(Reading database ... 40%\r",
        "(Reading database ... 45%\r",
        "(Reading database ... 50%\r",
        "(Reading database ... 55%\r",
        "(Reading database ... 60%\r",
        "(Reading database ... 65%\r"
       ]
      },
      {
       "output_type": "stream",
       "stream": "stdout",
       "text": [
        "(Reading database ... 70%\r",
        "(Reading database ... 75%\r",
        "(Reading database ... 80%\r",
        "(Reading database ... 85%\r",
        "(Reading database ... 90%\r",
        "(Reading database ... 95%\r"
       ]
      },
      {
       "output_type": "stream",
       "stream": "stdout",
       "text": [
        "(Reading database ... 100%\r",
        "(Reading database ... 113243 files and directories currently installed.)\r\n",
        "Unpacking samtools (from .../samtools_0.1.19-1_amd64.deb) ...\r\n"
       ]
      },
      {
       "output_type": "stream",
       "stream": "stdout",
       "text": [
        "Processing triggers for man-db ...\r\n"
       ]
      },
      {
       "output_type": "stream",
       "stream": "stdout",
       "text": [
        "Setting up samtools (0.1.19-1) ...\r\n"
       ]
      }
     ],
     "prompt_number": 30
    },
    {
     "cell_type": "markdown",
     "metadata": {},
     "source": [
      "The steps of the script are as follows:\n",
      "\n",
      "* Index your reference genome\n",
      "* Map reads to your index genome (with default bowtie parameters)\n",
      "* Use Samtools to estimate the number of reads mapped, number of reads unmapped, and provide a tab delimited file with each line consisting of reference sequence name, sequence length, # mapped reads and # unmapped reads.\n"
     ]
    },
    {
     "cell_type": "code",
     "collapsed": false,
     "input": [
      "!bash /home/ubuntu/frontiers-review-2015/bowtie.sh genomes/NC_000913.2.fa SRR172903.fastq"
     ],
     "language": "python",
     "metadata": {},
     "outputs": [
      {
       "output_type": "stream",
       "stream": "stdout",
       "text": [
        "Reference is genomes/NC_000913.2.fa\r\n",
        "Reads are SRR172903.fastq\r\n",
        "Settings:\r\n",
        "  Output files: \"genomes/NC_000913.2.fa-bowtie-index.*.bt2\"\r\n",
        "  Line rate: 6 (line is 64 bytes)\r\n",
        "  Lines per side: 1 (side is 64 bytes)\r\n",
        "  Offset rate: 4 (one in 16)\r\n",
        "  FTable chars: 10\r\n",
        "  Strings: unpacked\r\n",
        "  Max bucket size: default\r\n",
        "  Max bucket size, sqrt multiplier: default\r\n",
        "  Max bucket size, len divisor: 4\r\n",
        "  Difference-cover sample period: 1024\r\n",
        "  Endianness: little\r\n",
        "  Actual local endianness: little\r\n",
        "  Sanity checking: disabled\r\n",
        "  Assertions: disabled\r\n",
        "  Random seed: 0\r\n",
        "  Sizeofs: void*:8, int:4, long:8, size_t:8\r\n",
        "Input files DNA, FASTA:\r\n",
        "  genomes/NC_000913.2.fa\r\n",
        "Building a SMALL index\r\n",
        "Reading reference sizes\r\n"
       ]
      },
      {
       "output_type": "stream",
       "stream": "stdout",
       "text": [
        "  Time reading reference sizes: 00:00:00\r\n",
        "Calculating joined length\r\n",
        "Writing header\r\n",
        "Reserving space for joined string\r\n",
        "Joining reference sequences\r\n"
       ]
      },
      {
       "output_type": "stream",
       "stream": "stdout",
       "text": [
        "  Time to join reference sequences: 00:00:00\r\n",
        "bmax according to bmaxDivN setting: 1159918\r\n",
        "Using parameters --bmax 869939 --dcv 1024\r\n",
        "  Doing ahead-of-time memory usage test\r\n"
       ]
      },
      {
       "output_type": "stream",
       "stream": "stdout",
       "text": [
        "  Passed!  Constructing with these parameters: --bmax 869939 --dcv 1024\r\n",
        "Constructing suffix-array element generator\r\n",
        "Building DifferenceCoverSample\r\n",
        "  Building sPrime\r\n",
        "  Building sPrimeOrder\r\n",
        "  V-Sorting samples\r\n"
       ]
      },
      {
       "output_type": "stream",
       "stream": "stdout",
       "text": [
        "  V-Sorting samples time: 00:00:00\r\n",
        "  Allocating rank array\r\n",
        "  Ranking v-sort output\r\n",
        "  Ranking v-sort output time: 00:00:00\r\n",
        "  Invoking Larsson-Sadakane on ranks\r\n",
        "  Invoking Larsson-Sadakane on ranks time: 00:00:00\r\n",
        "  Sanity-checking and returning\r\n",
        "Building samples\r\n",
        "Reserving space for 12 sample suffixes\r\n",
        "Generating random suffixes\r\n",
        "QSorting 12 sample offsets, eliminating duplicates\r\n",
        "QSorting sample offsets, eliminating duplicates time: 00:00:00\r\n",
        "Multikey QSorting 12 samples\r\n",
        "  (Using difference cover)\r\n",
        "  Multikey QSorting samples time: 00:00:00\r\n",
        "Calculating bucket sizes\r\n",
        "  Binary sorting into buckets\r\n"
       ]
      },
      {
       "output_type": "stream",
       "stream": "stdout",
       "text": [
        "  10%\r\n",
        "  20%\r\n"
       ]
      },
      {
       "output_type": "stream",
       "stream": "stdout",
       "text": [
        "  30%\r\n",
        "  40%\r\n",
        "  50%\r\n"
       ]
      },
      {
       "output_type": "stream",
       "stream": "stdout",
       "text": [
        "  60%\r\n",
        "  70%\r\n"
       ]
      },
      {
       "output_type": "stream",
       "stream": "stdout",
       "text": [
        "  80%\r\n",
        "  90%\r\n",
        "  100%\r\n",
        "  Binary sorting into buckets time: 00:00:00\r\n",
        "Splitting and merging\r\n",
        "  Splitting and merging time: 00:00:00\r\n",
        "Split 2, merged 6; iterating...\r\n",
        "  Binary sorting into buckets\r\n"
       ]
      },
      {
       "output_type": "stream",
       "stream": "stdout",
       "text": [
        "  10%\r\n",
        "  20%\r\n"
       ]
      },
      {
       "output_type": "stream",
       "stream": "stdout",
       "text": [
        "  30%\r\n",
        "  40%\r\n",
        "  50%\r\n"
       ]
      },
      {
       "output_type": "stream",
       "stream": "stdout",
       "text": [
        "  60%\r\n",
        "  70%\r\n",
        "  80%\r\n"
       ]
      },
      {
       "output_type": "stream",
       "stream": "stdout",
       "text": [
        "  90%\r\n",
        "  100%\r\n",
        "  Binary sorting into buckets time: 00:00:00\r\n",
        "Splitting and merging\r\n",
        "  Splitting and merging time: 00:00:00\r\n",
        "Split 1, merged 1; iterating...\r\n",
        "  Binary sorting into buckets\r\n",
        "  10%\r\n"
       ]
      },
      {
       "output_type": "stream",
       "stream": "stdout",
       "text": [
        "  20%\r\n",
        "  30%\r\n"
       ]
      },
      {
       "output_type": "stream",
       "stream": "stdout",
       "text": [
        "  40%\r\n",
        "  50%\r\n",
        "  60%\r\n"
       ]
      },
      {
       "output_type": "stream",
       "stream": "stdout",
       "text": [
        "  70%\r\n",
        "  80%\r\n",
        "  90%\r\n"
       ]
      },
      {
       "output_type": "stream",
       "stream": "stdout",
       "text": [
        "  100%\r\n",
        "  Binary sorting into buckets time: 00:00:01\r\n",
        "Splitting and merging\r\n",
        "  Splitting and merging time: 00:00:00\r\n",
        "Avg bucket size: 579958 (target: 869938)\r\n",
        "Converting suffix-array elements to index image\r\n",
        "Allocating ftab, absorbFtab\r\n",
        "Entering Ebwt loop\r\n",
        "Getting block 1 of 8\r\n",
        "  Reserving size (869939) for bucket\r\n",
        "  Calculating Z arrays\r\n",
        "  Calculating Z arrays time: 00:00:00\r\n",
        "  Entering block accumulator loop:\r\n",
        "  10%\r\n",
        "  20%\r\n",
        "  30%\r\n",
        "  40%\r\n",
        "  50%\r\n"
       ]
      },
      {
       "output_type": "stream",
       "stream": "stdout",
       "text": [
        "  60%\r\n",
        "  70%\r\n",
        "  80%\r\n",
        "  90%\r\n",
        "  100%\r\n",
        "  Block accumulator loop time: 00:00:00\r\n",
        "  Sorting block of length 566788\r\n",
        "  (Using difference cover)\r\n"
       ]
      },
      {
       "output_type": "stream",
       "stream": "stdout",
       "text": [
        "  Sorting block time: 00:00:00\r\n",
        "Returning block of 566789\r\n",
        "Getting block 2 of 8\r\n",
        "  Reserving size (869939) for bucket\r\n",
        "  Calculating Z arrays\r\n",
        "  Calculating Z arrays time: 00:00:00\r\n",
        "  Entering block accumulator loop:\r\n",
        "  10%\r\n",
        "  20%\r\n"
       ]
      },
      {
       "output_type": "stream",
       "stream": "stdout",
       "text": [
        "  30%\r\n",
        "  40%\r\n",
        "  50%\r\n",
        "  60%\r\n",
        "  70%\r\n",
        "  80%\r\n",
        "  90%\r\n"
       ]
      },
      {
       "output_type": "stream",
       "stream": "stdout",
       "text": [
        "  100%\r\n",
        "  Block accumulator loop time: 00:00:00\r\n",
        "  Sorting block of length 564637\r\n",
        "  (Using difference cover)\r\n"
       ]
      },
      {
       "output_type": "stream",
       "stream": "stdout",
       "text": [
        "  Sorting block time: 00:00:00\r\n",
        "Returning block of 564638\r\n"
       ]
      },
      {
       "output_type": "stream",
       "stream": "stdout",
       "text": [
        "Getting block 3 of 8\r\n",
        "  Reserving size (869939) for bucket\r\n",
        "  Calculating Z arrays\r\n",
        "  Calculating Z arrays time: 00:00:00\r\n",
        "  Entering block accumulator loop:\r\n",
        "  10%\r\n",
        "  20%\r\n",
        "  30%\r\n"
       ]
      },
      {
       "output_type": "stream",
       "stream": "stdout",
       "text": [
        "  40%\r\n",
        "  50%\r\n",
        "  60%\r\n",
        "  70%\r\n",
        "  80%\r\n",
        "  90%\r\n"
       ]
      },
      {
       "output_type": "stream",
       "stream": "stdout",
       "text": [
        "  100%\r\n",
        "  Block accumulator loop time: 00:00:00\r\n",
        "  Sorting block of length 645098\r\n",
        "  (Using difference cover)\r\n"
       ]
      },
      {
       "output_type": "stream",
       "stream": "stdout",
       "text": [
        "  Sorting block time: 00:00:00\r\n",
        "Returning block of 645099\r\n",
        "Getting block 4 of 8\r\n",
        "  Reserving size (869939) for bucket\r\n",
        "  Calculating Z arrays\r\n",
        "  Calculating Z arrays time: 00:00:00\r\n",
        "  Entering block accumulator loop:\r\n",
        "  10%\r\n"
       ]
      },
      {
       "output_type": "stream",
       "stream": "stdout",
       "text": [
        "  20%\r\n",
        "  30%\r\n",
        "  40%\r\n",
        "  50%\r\n",
        "  60%\r\n",
        "  70%\r\n"
       ]
      },
      {
       "output_type": "stream",
       "stream": "stdout",
       "text": [
        "  80%\r\n",
        "  90%\r\n",
        "  100%\r\n",
        "  Block accumulator loop time: 00:00:00\r\n",
        "  Sorting block of length 234151\r\n",
        "  (Using difference cover)\r\n"
       ]
      },
      {
       "output_type": "stream",
       "stream": "stdout",
       "text": [
        "  Sorting block time: 00:00:00\r\n",
        "Returning block of 234152\r\n",
        "Getting block 5 of 8\r\n",
        "  Reserving size (869939) for bucket\r\n",
        "  Calculating Z arrays\r\n",
        "  Calculating Z arrays time: 00:00:00\r\n",
        "  Entering block accumulator loop:\r\n",
        "  10%\r\n",
        "  20%\r\n",
        "  30%\r\n"
       ]
      },
      {
       "output_type": "stream",
       "stream": "stdout",
       "text": [
        "  40%\r\n",
        "  50%\r\n",
        "  60%\r\n",
        "  70%\r\n",
        "  80%\r\n"
       ]
      },
      {
       "output_type": "stream",
       "stream": "stdout",
       "text": [
        "  90%\r\n",
        "  100%\r\n",
        "  Block accumulator loop time: 00:00:00\r\n",
        "  Sorting block of length 643592\r\n",
        "  (Using difference cover)\r\n"
       ]
      },
      {
       "output_type": "stream",
       "stream": "stdout",
       "text": [
        "  Sorting block time: 00:00:01\r\n",
        "Returning block of 643593\r\n",
        "Getting block 6 of 8\r\n",
        "  Reserving size (869939) for bucket\r\n",
        "  Calculating Z arrays\r\n",
        "  Calculating Z arrays time: 00:00:00\r\n",
        "  Entering block accumulator loop:\r\n",
        "  10%\r\n"
       ]
      },
      {
       "output_type": "stream",
       "stream": "stdout",
       "text": [
        "  20%\r\n",
        "  30%\r\n",
        "  40%\r\n",
        "  50%\r\n",
        "  60%\r\n",
        "  70%\r\n"
       ]
      },
      {
       "output_type": "stream",
       "stream": "stdout",
       "text": [
        "  80%\r\n",
        "  90%\r\n",
        "  100%\r\n",
        "  Block accumulator loop time: 00:00:00\r\n",
        "  Sorting block of length 711613\r\n",
        "  (Using difference cover)\r\n"
       ]
      },
      {
       "output_type": "stream",
       "stream": "stdout",
       "text": [
        "  Sorting block time: 00:00:00\r\n",
        "Returning block of 711614\r\n"
       ]
      },
      {
       "output_type": "stream",
       "stream": "stdout",
       "text": [
        "Getting block 7 of 8\r\n",
        "  Reserving size (869939) for bucket\r\n",
        "  Calculating Z arrays\r\n",
        "  Calculating Z arrays time: 00:00:00\r\n",
        "  Entering block accumulator loop:\r\n",
        "  10%\r\n",
        "  20%\r\n",
        "  30%\r\n"
       ]
      },
      {
       "output_type": "stream",
       "stream": "stdout",
       "text": [
        "  40%\r\n",
        "  50%\r\n",
        "  60%\r\n",
        "  70%\r\n",
        "  80%\r\n",
        "  90%\r\n"
       ]
      },
      {
       "output_type": "stream",
       "stream": "stdout",
       "text": [
        "  100%\r\n",
        "  Block accumulator loop time: 00:00:00\r\n",
        "  Sorting block of length 574603\r\n",
        "  (Using difference cover)\r\n"
       ]
      },
      {
       "output_type": "stream",
       "stream": "stdout",
       "text": [
        "  Sorting block time: 00:00:00\r\n",
        "Returning block of 574604\r\n",
        "Getting block 8 of 8\r\n",
        "  Reserving size (869939) for bucket\r\n",
        "  Calculating Z arrays\r\n",
        "  Calculating Z arrays time: 00:00:00\r\n",
        "  Entering block accumulator loop:\r\n",
        "  10%\r\n",
        "  20%\r\n",
        "  30%\r\n",
        "  40%\r\n"
       ]
      },
      {
       "output_type": "stream",
       "stream": "stdout",
       "text": [
        "  50%\r\n",
        "  60%\r\n",
        "  70%\r\n",
        "  80%\r\n",
        "  90%\r\n",
        "  100%\r\n",
        "  Block accumulator loop time: 00:00:00\r\n",
        "  Sorting block of length 699186\r\n",
        "  (Using difference cover)\r\n"
       ]
      },
      {
       "output_type": "stream",
       "stream": "stdout",
       "text": [
        "  Sorting block time: 00:00:00\r\n",
        "Returning block of 699187\r\n"
       ]
      },
      {
       "output_type": "stream",
       "stream": "stdout",
       "text": [
        "Exited Ebwt loop\r\n",
        "fchr[A]: 0\r\n",
        "fchr[C]: 1142228\r\n",
        "fchr[G]: 2321782\r\n",
        "fchr[T]: 3498705\r\n",
        "fchr[$]: 4639675\r\n"
       ]
      },
      {
       "output_type": "stream",
       "stream": "stdout",
       "text": [
        "Exiting Ebwt::buildToDisk()\r\n",
        "Returning from initFromVector\r\n",
        "Wrote 5741113 bytes to primary EBWT file: genomes/NC_000913.2.fa-bowtie-index.1.bt2\r\n",
        "Wrote 1159924 bytes to secondary EBWT file: genomes/NC_000913.2.fa-bowtie-index.2.bt2\r\n",
        "Re-opening _in1 and _in2 as input streams\r\n",
        "Returning from Ebwt constructor\r\n",
        "Headers:\r\n",
        "    len: 4639675\r\n",
        "    bwtLen: 4639676\r\n",
        "    sz: 1159919\r\n",
        "    bwtSz: 1159919\r\n",
        "    lineRate: 6\r\n",
        "    offRate: 4\r\n",
        "    offMask: 0xfffffff0\r\n",
        "    ftabChars: 10\r\n",
        "    eftabLen: 20\r\n",
        "    eftabSz: 80\r\n",
        "    ftabLen: 1048577\r\n",
        "    ftabSz: 4194308\r\n",
        "    offsLen: 289980\r\n",
        "    offsSz: 1159920\r\n",
        "    lineSz: 64\r\n",
        "    sideSz: 64\r\n",
        "    sideBwtSz: 48\r\n",
        "    sideBwtLen: 192\r\n",
        "    numSides: 24165\r\n",
        "    numLines: 24165\r\n",
        "    ebwtTotLen: 1546560\r\n",
        "    ebwtTotSz: 1546560\r\n",
        "    color: 0\r\n",
        "    reverse: 0\r\n",
        "Total time for call to driver() for forward index: 00:00:02\r\n",
        "Reading reference sizes\r\n"
       ]
      },
      {
       "output_type": "stream",
       "stream": "stdout",
       "text": [
        "  Time reading reference sizes: 00:00:00\r\n",
        "Calculating joined length\r\n",
        "Writing header\r\n",
        "Reserving space for joined string\r\n",
        "Joining reference sequences\r\n",
        "  Time to join reference sequences: 00:00:00\r\n",
        "  Time to reverse reference sequence: 00:00:00\r\n",
        "bmax according to bmaxDivN setting: 1159918\r\n",
        "Using parameters --bmax 869939 --dcv 1024\r\n",
        "  Doing ahead-of-time memory usage test\r\n"
       ]
      },
      {
       "output_type": "stream",
       "stream": "stdout",
       "text": [
        "  Passed!  Constructing with these parameters: --bmax 869939 --dcv 1024\r\n"
       ]
      },
      {
       "output_type": "stream",
       "stream": "stdout",
       "text": [
        "Constructing suffix-array element generator\r\n",
        "Building DifferenceCoverSample\r\n",
        "  Building sPrime\r\n",
        "  Building sPrimeOrder\r\n",
        "  V-Sorting samples\r\n"
       ]
      },
      {
       "output_type": "stream",
       "stream": "stdout",
       "text": [
        "  V-Sorting samples time: 00:00:00\r\n",
        "  Allocating rank array\r\n",
        "  Ranking v-sort output\r\n",
        "  Ranking v-sort output time: 00:00:00\r\n",
        "  Invoking Larsson-Sadakane on ranks\r\n",
        "  Invoking Larsson-Sadakane on ranks time: 00:00:01\r\n",
        "  Sanity-checking and returning\r\n",
        "Building samples\r\n",
        "Reserving space for 12 sample suffixes\r\n",
        "Generating random suffixes\r\n",
        "QSorting 12 sample offsets, eliminating duplicates\r\n",
        "QSorting sample offsets, eliminating duplicates time: 00:00:00\r\n",
        "Multikey QSorting 12 samples\r\n",
        "  (Using difference cover)\r\n",
        "  Multikey QSorting samples time: 00:00:00\r\n",
        "Calculating bucket sizes\r\n",
        "  Binary sorting into buckets\r\n"
       ]
      },
      {
       "output_type": "stream",
       "stream": "stdout",
       "text": [
        "  10%\r\n",
        "  20%\r\n",
        "  30%\r\n"
       ]
      },
      {
       "output_type": "stream",
       "stream": "stdout",
       "text": [
        "  40%\r\n",
        "  50%\r\n"
       ]
      },
      {
       "output_type": "stream",
       "stream": "stdout",
       "text": [
        "  60%\r\n",
        "  70%\r\n",
        "  80%\r\n"
       ]
      },
      {
       "output_type": "stream",
       "stream": "stdout",
       "text": [
        "  90%\r\n",
        "  100%\r\n",
        "  Binary sorting into buckets time: 00:00:00\r\n",
        "Splitting and merging\r\n",
        "  Splitting and merging time: 00:00:00\r\n",
        "Split 2, merged 6; iterating...\r\n",
        "  Binary sorting into buckets\r\n",
        "  10%\r\n"
       ]
      },
      {
       "output_type": "stream",
       "stream": "stdout",
       "text": [
        "  20%\r\n",
        "  30%\r\n"
       ]
      },
      {
       "output_type": "stream",
       "stream": "stdout",
       "text": [
        "  40%\r\n",
        "  50%\r\n",
        "  60%\r\n"
       ]
      },
      {
       "output_type": "stream",
       "stream": "stdout",
       "text": [
        "  70%\r\n",
        "  80%\r\n",
        "  90%\r\n"
       ]
      },
      {
       "output_type": "stream",
       "stream": "stdout",
       "text": [
        "  100%\r\n",
        "  Binary sorting into buckets time: 00:00:00\r\n",
        "Splitting and merging\r\n",
        "  Splitting and merging time: 00:00:00\r\n",
        "Avg bucket size: 662810 (target: 869938)\r\n",
        "Converting suffix-array elements to index image\r\n",
        "Allocating ftab, absorbFtab\r\n",
        "Entering Ebwt loop\r\n",
        "Getting block 1 of 7\r\n",
        "  Reserving size (869939) for bucket\r\n",
        "  Calculating Z arrays\r\n",
        "  Calculating Z arrays time: 00:00:00\r\n",
        "  Entering block accumulator loop:\r\n",
        "  10%\r\n",
        "  20%\r\n",
        "  30%\r\n",
        "  40%\r\n",
        "  50%\r\n",
        "  60%\r\n"
       ]
      },
      {
       "output_type": "stream",
       "stream": "stdout",
       "text": [
        "  70%\r\n",
        "  80%\r\n",
        "  90%\r\n",
        "  100%\r\n",
        "  Block accumulator loop time: 00:00:00\r\n",
        "  Sorting block of length 504667\r\n",
        "  (Using difference cover)\r\n"
       ]
      },
      {
       "output_type": "stream",
       "stream": "stdout",
       "text": [
        "  Sorting block time: 00:00:00\r\n",
        "Returning block of 504668\r\n"
       ]
      },
      {
       "output_type": "stream",
       "stream": "stdout",
       "text": [
        "Getting block 2 of 7\r\n",
        "  Reserving size (869939) for bucket\r\n",
        "  Calculating Z arrays\r\n",
        "  Calculating Z arrays time: 00:00:00\r\n",
        "  Entering block accumulator loop:\r\n",
        "  10%\r\n",
        "  20%\r\n",
        "  30%\r\n",
        "  40%\r\n",
        "  50%\r\n"
       ]
      },
      {
       "output_type": "stream",
       "stream": "stdout",
       "text": [
        "  60%\r\n",
        "  70%\r\n",
        "  80%\r\n",
        "  90%\r\n",
        "  100%\r\n",
        "  Block accumulator loop time: 00:00:00\r\n",
        "  Sorting block of length 574835\r\n",
        "  (Using difference cover)\r\n"
       ]
      },
      {
       "output_type": "stream",
       "stream": "stdout",
       "text": [
        "  Sorting block time: 00:00:00\r\n",
        "Returning block of 574836\r\n",
        "Getting block 3 of 7\r\n",
        "  Reserving size (869939) for bucket\r\n",
        "  Calculating Z arrays\r\n",
        "  Calculating Z arrays time: 00:00:00\r\n",
        "  Entering block accumulator loop:\r\n"
       ]
      },
      {
       "output_type": "stream",
       "stream": "stdout",
       "text": [
        "  10%\r\n",
        "  20%\r\n",
        "  30%\r\n",
        "  40%\r\n",
        "  50%\r\n",
        "  60%\r\n",
        "  70%\r\n"
       ]
      },
      {
       "output_type": "stream",
       "stream": "stdout",
       "text": [
        "  80%\r\n",
        "  90%\r\n",
        "  100%\r\n",
        "  Block accumulator loop time: 00:00:00\r\n",
        "  Sorting block of length 367744\r\n",
        "  (Using difference cover)\r\n"
       ]
      },
      {
       "output_type": "stream",
       "stream": "stdout",
       "text": [
        "  Sorting block time: 00:00:00\r\n",
        "Returning block of 367745\r\n",
        "Getting block 4 of 7\r\n",
        "  Reserving size (869939) for bucket\r\n",
        "  Calculating Z arrays\r\n",
        "  Calculating Z arrays time: 00:00:00\r\n",
        "  Entering block accumulator loop:\r\n"
       ]
      },
      {
       "output_type": "stream",
       "stream": "stdout",
       "text": [
        "  10%\r\n",
        "  20%\r\n",
        "  30%\r\n",
        "  40%\r\n",
        "  50%\r\n",
        "  60%\r\n"
       ]
      },
      {
       "output_type": "stream",
       "stream": "stdout",
       "text": [
        "  70%\r\n",
        "  80%\r\n",
        "  90%\r\n",
        "  100%\r\n",
        "  Block accumulator loop time: 00:00:00\r\n",
        "  Sorting block of length 868288\r\n",
        "  (Using difference cover)\r\n"
       ]
      },
      {
       "output_type": "stream",
       "stream": "stdout",
       "text": [
        "  Sorting block time: 00:00:01\r\n",
        "Returning block of 868289\r\n"
       ]
      },
      {
       "output_type": "stream",
       "stream": "stdout",
       "text": [
        "Getting block 5 of 7\r\n",
        "  Reserving size (869939) for bucket\r\n",
        "  Calculating Z arrays\r\n",
        "  Calculating Z arrays time: 00:00:00\r\n",
        "  Entering block accumulator loop:\r\n",
        "  10%\r\n",
        "  20%\r\n",
        "  30%\r\n",
        "  40%\r\n"
       ]
      },
      {
       "output_type": "stream",
       "stream": "stdout",
       "text": [
        "  50%\r\n",
        "  60%\r\n",
        "  70%\r\n",
        "  80%\r\n",
        "  90%\r\n"
       ]
      },
      {
       "output_type": "stream",
       "stream": "stdout",
       "text": [
        "  100%\r\n",
        "  Block accumulator loop time: 00:00:00\r\n",
        "  Sorting block of length 852473\r\n",
        "  (Using difference cover)\r\n"
       ]
      },
      {
       "output_type": "stream",
       "stream": "stdout",
       "text": [
        "  Sorting block time: 00:00:00\r\n",
        "Returning block of 852474\r\n"
       ]
      },
      {
       "output_type": "stream",
       "stream": "stdout",
       "text": [
        "Getting block 6 of 7\r\n",
        "  Reserving size (869939) for bucket\r\n",
        "  Calculating Z arrays\r\n",
        "  Calculating Z arrays time: 00:00:00\r\n",
        "  Entering block accumulator loop:\r\n",
        "  10%\r\n",
        "  20%\r\n"
       ]
      },
      {
       "output_type": "stream",
       "stream": "stdout",
       "text": [
        "  30%\r\n",
        "  40%\r\n",
        "  50%\r\n",
        "  60%\r\n",
        "  70%\r\n"
       ]
      },
      {
       "output_type": "stream",
       "stream": "stdout",
       "text": [
        "  80%\r\n",
        "  90%\r\n",
        "  100%\r\n",
        "  Block accumulator loop time: 00:00:00\r\n",
        "  Sorting block of length 759657\r\n",
        "  (Using difference cover)\r\n"
       ]
      },
      {
       "output_type": "stream",
       "stream": "stdout",
       "text": [
        "  Sorting block time: 00:00:00\r\n",
        "Returning block of 759658\r\n"
       ]
      },
      {
       "output_type": "stream",
       "stream": "stdout",
       "text": [
        "Getting block 7 of 7\r\n",
        "  Reserving size (869939) for bucket\r\n",
        "  Calculating Z arrays\r\n",
        "  Calculating Z arrays time: 00:00:00\r\n",
        "  Entering block accumulator loop:\r\n",
        "  10%\r\n",
        "  20%\r\n",
        "  30%\r\n",
        "  40%\r\n"
       ]
      },
      {
       "output_type": "stream",
       "stream": "stdout",
       "text": [
        "  50%\r\n",
        "  60%\r\n",
        "  70%\r\n",
        "  80%\r\n",
        "  90%\r\n",
        "  100%\r\n",
        "  Block accumulator loop time: 00:00:00\r\n",
        "  Sorting block of length 712005\r\n",
        "  (Using difference cover)\r\n"
       ]
      },
      {
       "output_type": "stream",
       "stream": "stdout",
       "text": [
        "  Sorting block time: 00:00:00\r\n",
        "Returning block of 712006\r\n"
       ]
      },
      {
       "output_type": "stream",
       "stream": "stdout",
       "text": [
        "Exited Ebwt loop\r\n",
        "fchr[A]: 0\r\n",
        "fchr[C]: 1142228\r\n",
        "fchr[G]: 2321782\r\n",
        "fchr[T]: 3498705\r\n",
        "fchr[$]: 4639675\r\n"
       ]
      },
      {
       "output_type": "stream",
       "stream": "stdout",
       "text": [
        "Exiting Ebwt::buildToDisk()\r\n",
        "Returning from initFromVector\r\n",
        "Wrote 5741113 bytes to primary EBWT file: genomes/NC_000913.2.fa-bowtie-index.rev.1.bt2\r\n",
        "Wrote 1159924 bytes to secondary EBWT file: genomes/NC_000913.2.fa-bowtie-index.rev.2.bt2\r\n",
        "Re-opening _in1 and _in2 as input streams\r\n",
        "Returning from Ebwt constructor\r\n",
        "Headers:\r\n",
        "    len: 4639675\r\n",
        "    bwtLen: 4639676\r\n",
        "    sz: 1159919\r\n",
        "    bwtSz: 1159919\r\n",
        "    lineRate: 6\r\n",
        "    offRate: 4\r\n",
        "    offMask: 0xfffffff0\r\n",
        "    ftabChars: 10\r\n",
        "    eftabLen: 20\r\n",
        "    eftabSz: 80\r\n",
        "    ftabLen: 1048577\r\n",
        "    ftabSz: 4194308\r\n",
        "    offsLen: 289980\r\n",
        "    offsSz: 1159920\r\n",
        "    lineSz: 64\r\n",
        "    sideSz: 64\r\n",
        "    sideBwtSz: 48\r\n",
        "    sideBwtLen: 192\r\n",
        "    numSides: 24165\r\n",
        "    numLines: 24165\r\n",
        "    ebwtTotLen: 1546560\r\n",
        "    ebwtTotSz: 1546560\r\n",
        "    color: 0\r\n",
        "    reverse: 1\r\n",
        "Total time for backward call to driver() for mirror index: 00:00:02\r\n"
       ]
      },
      {
       "output_type": "stream",
       "stream": "stdout",
       "text": [
        "7932819 reads; of these:\r\n",
        "  7932819 (100.00%) were unpaired; of these:\r\n",
        "    7358331 (92.76%) aligned 0 times\r\n",
        "    553695 (6.98%) aligned exactly 1 time\r\n",
        "    20793 (0.26%) aligned >1 times\r\n",
        "7.24% overall alignment rate\r\n",
        "[samopen] SAM header is present: 1 sequences.\r\n"
       ]
      },
      {
       "output_type": "stream",
       "stream": "stdout",
       "text": [
        "[bam_header_read] EOF marker is absent. The input is probably truncated.\r\n"
       ]
      },
      {
       "output_type": "stream",
       "stream": "stdout",
       "text": [
        "[main_samview] truncated file.\r\n",
        "[bam_header_read] EOF marker is absent. The input is probably truncated.\r\n"
       ]
      },
      {
       "output_type": "stream",
       "stream": "stdout",
       "text": [
        "[main_samview] truncated file.\r\n",
        "[bam_header_read] EOF marker is absent. The input is probably truncated.\r\n"
       ]
      },
      {
       "output_type": "stream",
       "stream": "stdout",
       "text": [
        "[bam_sort_core] truncated file. Continue anyway.\r\n"
       ]
      },
      {
       "output_type": "stream",
       "stream": "stdout",
       "text": [
        "[bam_sort_core] merging from 2 files...\r\n",
        "[bam_header_read] EOF marker is absent. The input is probably truncated.\r\n",
        "[bam_header_read] invalid BAM binary header (this is not a BAM file).\r\n",
        "[bam_header_read] EOF marker is absent. The input is probably truncated.\r\n",
        "[bam_header_read] invalid BAM binary header (this is not a BAM file).\r\n"
       ]
      },
      {
       "output_type": "stream",
       "stream": "stdout",
       "text": [
        "/home/ubuntu/frontiers-review-2015/bowtie.sh: line 13:  5317 Segmentation fault      (core dumped) samtools sort $REF.$READS.bam $REF.$READS.bam.sorted\r\n",
        "open: No such file or directory\r\n",
        "[bam_index_build2] fail to open the BAM file.\r\n",
        "open: No such file or directory\r\n",
        "[bam_idxstats] fail to open BAM.\r\n"
       ]
      }
     ],
     "prompt_number": 33
    },